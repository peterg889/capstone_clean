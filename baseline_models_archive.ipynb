{
 "cells": [
  {
   "cell_type": "markdown",
   "metadata": {},
   "source": [
    "### Included"
   ]
  },
  {
   "cell_type": "markdown",
   "metadata": {},
   "source": [
    "* Data prep (cleaning, scaling)\n",
    "* Linear, Ridge, Lasso Regression\n",
    "* Random Forest (and with Grid Search)\n",
    "* MLP (with Grid Search)"
   ]
  },
  {
   "cell_type": "markdown",
   "metadata": {},
   "source": [
    "### To do"
   ]
  },
  {
   "cell_type": "markdown",
   "metadata": {},
   "source": [
    "* Add Airbnb data\n",
    "* Add Clustering data"
   ]
  },
  {
   "cell_type": "markdown",
   "metadata": {},
   "source": [
    "## Setup"
   ]
  },
  {
   "cell_type": "code",
   "execution_count": 1,
   "metadata": {},
   "outputs": [
    {
     "name": "stdout",
     "output_type": "stream",
     "text": [
      "Numpy:  1.16.2\n",
      "Sklearn:  0.19.1\n",
      "Pandas:  0.24.2\n"
     ]
    }
   ],
   "source": [
    "import numpy as np\n",
    "import sklearn as sk\n",
    "import pandas as pd\n",
    "\n",
    "print('Numpy: ', np.__version__) #1.16.2\n",
    "print('Sklearn: ', sk.__version__) # 0.19.1\n",
    "print('Pandas: ', pd.__version__) # 0.24.2"
   ]
  },
  {
   "cell_type": "code",
   "execution_count": 2,
   "metadata": {},
   "outputs": [
    {
     "name": "stderr",
     "output_type": "stream",
     "text": [
      "/Library/Frameworks/Python.framework/Versions/3.6/lib/python3.6/site-packages/sklearn/ensemble/weight_boosting.py:29: DeprecationWarning: numpy.core.umath_tests is an internal NumPy module and should not be imported. It will be removed in a future NumPy release.\n",
      "  from numpy.core.umath_tests import inner1d\n"
     ]
    }
   ],
   "source": [
    "import numpy as np\n",
    "import pandas as pd\n",
    "from sklearn import preprocessing\n",
    "from sklearn.model_selection import GridSearchCV, RandomizedSearchCV, train_test_split\n",
    "from sklearn.linear_model import LinearRegression, RidgeCV, LassoCV, LogisticRegression\n",
    "from sklearn.metrics import classification_report, mean_squared_error, mean_squared_error, mean_absolute_error\n",
    "from sklearn.ensemble import RandomForestRegressor, RandomForestClassifier\n",
    "from sklearn.preprocessing import StandardScaler\n",
    "from sklearn.neural_network import MLPRegressor, MLPClassifier\n",
    "from matplotlib import pyplot as plt\n",
    "import xgboost as xgb"
   ]
  },
  {
   "cell_type": "markdown",
   "metadata": {},
   "source": [
    "## Import Data"
   ]
  },
  {
   "cell_type": "code",
   "execution_count": 3,
   "metadata": {
    "collapsed": true
   },
   "outputs": [],
   "source": [
    "df = pd.read_csv('merged2.csv', header=None)"
   ]
  },
  {
   "cell_type": "code",
   "execution_count": 4,
   "metadata": {
    "collapsed": true
   },
   "outputs": [],
   "source": [
    "df.drop(columns=[0], inplace=True)"
   ]
  },
  {
   "cell_type": "code",
   "execution_count": 5,
   "metadata": {
    "collapsed": true
   },
   "outputs": [],
   "source": [
    "df.columns = ['ID', 'PropertyFullStreetAddress', 'PropertyAddressUnitNumber',\n",
    "       'PropertyCity', 'County', 'PropertyZip', 'PropertyAddressLatitude',\n",
    "       'PropertyAddressLongitude', 'BuildingAreaSqFt', 'LotSizeSquareFeet',\n",
    "       'FireplaceNumber', 'YearBuilt', 'NoOfStories', 'TotalBedrooms',\n",
    "       'NormalizedBathCount', 'LandAssessedValue', 'ImprovementAssessedValue',\n",
    "       'TotalAssessedValue', 'GarageNoOfCars', 'NormalizedListPrice',\n",
    "       'ListDate', 'NormalizedSalePrice', 'SoldDate', 'ListYearMonth',\n",
    "       'SoldYearMonth', 'MonthsToSale', 'NormalizedSalesPremium',\n",
    "       'built_prct']"
   ]
  },
  {
   "cell_type": "code",
   "execution_count": 6,
   "metadata": {
    "collapsed": true
   },
   "outputs": [],
   "source": [
    "# Log Sales Price\n",
    "df['LogSalePrice'] = np.log(df['NormalizedSalePrice'])"
   ]
  },
  {
   "cell_type": "code",
   "execution_count": 7,
   "metadata": {
    "collapsed": true
   },
   "outputs": [],
   "source": [
    "# Exclude 'NormalizedListPrice' because it may be too correlated with target 'NormalizedSalePrice'\n",
    "target = ['NormalizedSalePrice']\n",
    "numeric_cols = ['BuildingAreaSqFt', 'LotSizeSquareFeet', 'NoOfStories', 'TotalBedrooms', \n",
    "                'NormalizedBathCount', 'LandAssessedValue', 'ImprovementAssessedValue', 'TotalAssessedValue', \n",
    "                'GarageNoOfCars', 'PropertyAddressLatitude', 'PropertyAddressLongitude',\n",
    "                'built_prct', 'MonthsToSale', 'NormalizedSalesPremium'\n",
    "               ]\n",
    "categorical_cols = ['PropertyZip', 'YearBuilt', 'ListYearMonth']"
   ]
  },
  {
   "cell_type": "code",
   "execution_count": 8,
   "metadata": {
    "collapsed": true
   },
   "outputs": [],
   "source": [
    "df_noNA = df[target + numeric_cols + categorical_cols  + ['LogSalePrice', 'NormalizedListPrice']].dropna()"
   ]
  },
  {
   "cell_type": "markdown",
   "metadata": {},
   "source": [
    "## Helper functions"
   ]
  },
  {
   "cell_type": "code",
   "execution_count": 9,
   "metadata": {
    "collapsed": true
   },
   "outputs": [],
   "source": [
    "def get_adjusted_r2(model, X, y):\n",
    "    r2 = model.score(X, y)\n",
    "    n = X.shape[0]\n",
    "    p = X.shape[1]\n",
    "    \n",
    "    adj_r2 = r2 - (1 - r2)*(p/(n-p-1))\n",
    "    return adj_r2"
   ]
  },
  {
   "cell_type": "code",
   "execution_count": 10,
   "metadata": {
    "collapsed": true
   },
   "outputs": [],
   "source": [
    "def get_mape(y_true, y_pred):\n",
    "    abs_errors = [np.abs((y_true-y_pred)/y_true) for y_true,y_pred in zip(y_true,y_pred)]\n",
    "    mape = (sum(abs_errors)/len(abs_errors)) * 100\n",
    "    return mape"
   ]
  },
  {
   "cell_type": "code",
   "execution_count": 11,
   "metadata": {
    "collapsed": true
   },
   "outputs": [],
   "source": [
    "def get_mdape(y_true, y_pred):\n",
    "    abs_errors = [np.abs((y_true-y_pred)/y_true) for y_true,y_pred in zip(y_true,y_pred)]\n",
    "    mdape = np.median(abs_errors) * 100\n",
    "    return mdape"
   ]
  },
  {
   "cell_type": "markdown",
   "metadata": {},
   "source": [
    "# Regression"
   ]
  },
  {
   "cell_type": "markdown",
   "metadata": {},
   "source": [
    "## Linear Regression"
   ]
  },
  {
   "cell_type": "markdown",
   "metadata": {},
   "source": [
    "### Create dataset for Linear Regression"
   ]
  },
  {
   "cell_type": "code",
   "execution_count": 12,
   "metadata": {},
   "outputs": [
    {
     "name": "stderr",
     "output_type": "stream",
     "text": [
      "/Library/Frameworks/Python.framework/Versions/3.6/lib/python3.6/site-packages/ipykernel_launcher.py:8: SettingWithCopyWarning: \n",
      "A value is trying to be set on a copy of a slice from a DataFrame.\n",
      "Try using .loc[row_indexer,col_indexer] = value instead\n",
      "\n",
      "See the caveats in the documentation: http://pandas.pydata.org/pandas-docs/stable/indexing.html#indexing-view-versus-copy\n",
      "  \n"
     ]
    }
   ],
   "source": [
    "# Create numeric and categorical columns\n",
    "df_num = df_noNA[numeric_cols]\n",
    "df_cat = df_noNA[categorical_cols]\n",
    "df_target  = df_noNA['NormalizedSalePrice']\n",
    "\n",
    "# Create dummy variables for categorical columns\n",
    "for column in categorical_cols:\n",
    "    df_cat[column] = df_cat[column].astype(\"category\")\n",
    "df_cat = pd.get_dummies(df_cat)\n",
    "\n",
    "df_reg = pd.concat([df_num, df_cat, df_target, df_noNA[['LogSalePrice', 'NormalizedListPrice']]], axis=1)"
   ]
  },
  {
   "cell_type": "code",
   "execution_count": 13,
   "metadata": {
    "collapsed": true
   },
   "outputs": [],
   "source": [
    "# Train/test split\n",
    "train_reg, test_reg = train_test_split(df_reg, random_state=1)\n",
    "train_reg, val_reg = train_test_split(train_reg, random_state=1)"
   ]
  },
  {
   "cell_type": "code",
   "execution_count": 14,
   "metadata": {},
   "outputs": [
    {
     "name": "stderr",
     "output_type": "stream",
     "text": [
      "/Library/Frameworks/Python.framework/Versions/3.6/lib/python3.6/site-packages/ipykernel_launcher.py:10: SettingWithCopyWarning: \n",
      "A value is trying to be set on a copy of a slice from a DataFrame.\n",
      "Try using .loc[row_indexer,col_indexer] = value instead\n",
      "\n",
      "See the caveats in the documentation: http://pandas.pydata.org/pandas-docs/stable/indexing.html#indexing-view-versus-copy\n",
      "  # Remove the CWD from sys.path while we load stuff.\n"
     ]
    }
   ],
   "source": [
    "# Scale numeric features\n",
    "column_means_std = {}\n",
    "for numeric_column in numeric_cols:\n",
    "    means = train_reg[numeric_column].mean()\n",
    "    std = train_reg[numeric_column].std()\n",
    "    column_means_std[numeric_column] = [means, std]\n",
    "\n",
    "def get_z_scores(df, columns):\n",
    "    for column in columns:\n",
    "        df[column] = (df[column] - column_means_std[column][0])/column_means_std[column][1]\n",
    "        \n",
    "get_z_scores(train_reg, numeric_cols)\n",
    "get_z_scores(val_reg, numeric_cols)\n",
    "get_z_scores(test_reg, numeric_cols)"
   ]
  },
  {
   "cell_type": "code",
   "execution_count": 15,
   "metadata": {
    "collapsed": true
   },
   "outputs": [],
   "source": [
    "listPriceReg_train = train_reg.pop('NormalizedListPrice').reset_index().drop(columns = ['index'])\n",
    "listPriceReg_val = val_reg.pop('NormalizedListPrice').reset_index().drop(columns = ['index'])\n",
    "listPriceReg_test = test_reg.pop('NormalizedListPrice').reset_index().drop(columns = ['index'])\n",
    "\n",
    "salePriceReg_train = train_reg.pop('NormalizedSalePrice').reset_index().drop(columns = ['index'])\n",
    "salePriceReg_val = val_reg.pop('NormalizedSalePrice').reset_index().drop(columns = ['index'])\n",
    "salePriceReg_test = test_reg.pop('NormalizedSalePrice').reset_index().drop(columns = ['index'])"
   ]
  },
  {
   "cell_type": "code",
   "execution_count": 16,
   "metadata": {
    "collapsed": true
   },
   "outputs": [],
   "source": [
    "train_reg_X = train_reg.drop(columns = ['LogSalePrice','MonthsToSale']).reset_index().drop(columns = ['index'])\n",
    "train_reg_y = train_reg['LogSalePrice'].reset_index().drop(columns = ['index'])\n",
    "val_reg_X = val_reg.drop(columns = ['LogSalePrice','MonthsToSale']).reset_index().drop(columns = ['index'])\n",
    "val_reg_y = val_reg['LogSalePrice'].reset_index().drop(columns = ['index'])\n",
    "test_reg_X = test_reg.drop(columns = ['LogSalePrice','MonthsToSale']).reset_index().drop(columns = ['index'])\n",
    "test_reg_y = test_reg['LogSalePrice'].reset_index().drop(columns = ['index'])"
   ]
  },
  {
   "cell_type": "markdown",
   "metadata": {},
   "source": [
    "### Run Linear Regression on Train and Val set "
   ]
  },
  {
   "cell_type": "code",
   "execution_count": 17,
   "metadata": {},
   "outputs": [
    {
     "name": "stderr",
     "output_type": "stream",
     "text": [
      "/Library/Frameworks/Python.framework/Versions/3.6/lib/python3.6/site-packages/scipy/linalg/basic.py:1226: RuntimeWarning: internal gelsd driver lwork query error, required iwork dimension not returned. This is likely the result of LAPACK bug 0038, fixed in LAPACK 3.2.2 (released July 21, 2010). Falling back to 'gelss' driver.\n",
      "  warnings.warn(mesg, RuntimeWarning)\n"
     ]
    },
    {
     "data": {
      "text/plain": [
       "LinearRegression(copy_X=True, fit_intercept=True, n_jobs=1, normalize=False)"
      ]
     },
     "execution_count": 17,
     "metadata": {},
     "output_type": "execute_result"
    }
   ],
   "source": [
    "LR = LinearRegression()\n",
    "LR.fit(train_reg_X, train_reg_y)"
   ]
  },
  {
   "cell_type": "code",
   "execution_count": 18,
   "metadata": {
    "scrolled": true
   },
   "outputs": [
    {
     "name": "stdout",
     "output_type": "stream",
     "text": [
      "Train R-squared: 0.896\n",
      "Train Adjusted R-squared: 0.895\n",
      "Val R-squared: 0.873\n",
      "Val Adjusted R-squared: 0.868\n",
      "Test R-squared: 0.883\n",
      "Test Adjusted R-squared: 0.88\n"
     ]
    }
   ],
   "source": [
    "print('Train R-squared: {:.3}'.format(LR.score(train_reg_X, train_reg_y)))\n",
    "print('Train Adjusted R-squared: {:.3}'.format(get_adjusted_r2(LR, train_reg_X, train_reg_y)))\n",
    "\n",
    "print('Val R-squared: {:.3}'.format(LR.score(val_reg_X, val_reg_y)))\n",
    "print('Val Adjusted R-squared: {:.3}'.format(get_adjusted_r2(LR, val_reg_X, val_reg_y)))\n",
    "\n",
    "print('Test R-squared: {:.3}'.format(LR.score(test_reg_X, test_reg_y)))\n",
    "print('Test Adjusted R-squared: {:.3}'.format(get_adjusted_r2(LR, test_reg_X, test_reg_y)))"
   ]
  },
  {
   "cell_type": "code",
   "execution_count": 19,
   "metadata": {
    "scrolled": true
   },
   "outputs": [
    {
     "name": "stdout",
     "output_type": "stream",
     "text": [
      "Train MAE: 126490.01801794177\n",
      "Val MAE: 250795.11814631656\n",
      "Test MAE: 100779.71450035712\n"
     ]
    }
   ],
   "source": [
    "print('Train MAE: {}'.format(mean_absolute_error(y_true = salePriceReg_train['NormalizedSalePrice'], y_pred = [max(np.exp(i),0) for i in LR.predict(train_reg_X)])))\n",
    "print('Val MAE: {}'.format(mean_absolute_error(y_true = salePriceReg_val['NormalizedSalePrice'], y_pred = [max(np.exp(i),0) for i in LR.predict(val_reg_X)])))\n",
    "print('Test MAE: {}'.format(mean_absolute_error(y_true = salePriceReg_test['NormalizedSalePrice'], y_pred = [max(np.exp(i),0) for i in LR.predict(test_reg_X)])))\n"
   ]
  },
  {
   "cell_type": "code",
   "execution_count": 20,
   "metadata": {},
   "outputs": [
    {
     "name": "stdout",
     "output_type": "stream",
     "text": [
      "Train MAPE: [12.82818381]\n",
      "Val MAPE: [15.08802124]\n",
      "Test MAPE: [13.2988422]\n"
     ]
    }
   ],
   "source": [
    "print('Train MAPE: {}'.format(get_mape(y_true = salePriceReg_train['NormalizedSalePrice'], y_pred = [max(np.exp(i),0) for i in LR.predict(train_reg_X)])))\n",
    "print('Val MAPE: {}'.format(get_mape(y_true = salePriceReg_val['NormalizedSalePrice'], y_pred = [max(np.exp(i),0) for i in LR.predict(val_reg_X)])))\n",
    "print('Test MAPE: {}'.format(get_mape(y_true = salePriceReg_test['NormalizedSalePrice'], y_pred = [max(np.exp(i),0) for i in LR.predict(test_reg_X)])))\n"
   ]
  },
  {
   "cell_type": "code",
   "execution_count": 21,
   "metadata": {
    "collapsed": true
   },
   "outputs": [],
   "source": [
    "LR_coefficients = pd.DataFrame([train_reg_X.columns, LR.coef_[0]]).T"
   ]
  },
  {
   "cell_type": "code",
   "execution_count": 22,
   "metadata": {},
   "outputs": [
    {
     "data": {
      "text/html": [
       "<div>\n",
       "<style scoped>\n",
       "    .dataframe tbody tr th:only-of-type {\n",
       "        vertical-align: middle;\n",
       "    }\n",
       "\n",
       "    .dataframe tbody tr th {\n",
       "        vertical-align: top;\n",
       "    }\n",
       "\n",
       "    .dataframe thead th {\n",
       "        text-align: right;\n",
       "    }\n",
       "</style>\n",
       "<table border=\"1\" class=\"dataframe\">\n",
       "  <thead>\n",
       "    <tr style=\"text-align: right;\">\n",
       "      <th></th>\n",
       "      <th>0</th>\n",
       "      <th>1</th>\n",
       "    </tr>\n",
       "  </thead>\n",
       "  <tbody>\n",
       "    <tr>\n",
       "      <th>62</th>\n",
       "      <td>YearBuilt_1910.0</td>\n",
       "      <td>1.31741</td>\n",
       "    </tr>\n",
       "    <tr>\n",
       "      <th>57</th>\n",
       "      <td>YearBuilt_1882.0</td>\n",
       "      <td>1.28725</td>\n",
       "    </tr>\n",
       "    <tr>\n",
       "      <th>69</th>\n",
       "      <td>YearBuilt_1918.0</td>\n",
       "      <td>0.551044</td>\n",
       "    </tr>\n",
       "    <tr>\n",
       "      <th>66</th>\n",
       "      <td>YearBuilt_1915.0</td>\n",
       "      <td>0.550899</td>\n",
       "    </tr>\n",
       "    <tr>\n",
       "      <th>15</th>\n",
       "      <td>PropertyZip_78703.0</td>\n",
       "      <td>0.528475</td>\n",
       "    </tr>\n",
       "    <tr>\n",
       "      <th>58</th>\n",
       "      <td>YearBuilt_1900.0</td>\n",
       "      <td>0.488385</td>\n",
       "    </tr>\n",
       "    <tr>\n",
       "      <th>17</th>\n",
       "      <td>PropertyZip_78705.0</td>\n",
       "      <td>0.457258</td>\n",
       "    </tr>\n",
       "    <tr>\n",
       "      <th>16</th>\n",
       "      <td>PropertyZip_78704.0</td>\n",
       "      <td>0.420431</td>\n",
       "    </tr>\n",
       "    <tr>\n",
       "      <th>78</th>\n",
       "      <td>YearBuilt_1927.0</td>\n",
       "      <td>0.339059</td>\n",
       "    </tr>\n",
       "    <tr>\n",
       "      <th>48</th>\n",
       "      <td>PropertyZip_78751.0</td>\n",
       "      <td>0.337198</td>\n",
       "    </tr>\n",
       "  </tbody>\n",
       "</table>\n",
       "</div>"
      ],
      "text/plain": [
       "                      0         1\n",
       "62     YearBuilt_1910.0   1.31741\n",
       "57     YearBuilt_1882.0   1.28725\n",
       "69     YearBuilt_1918.0  0.551044\n",
       "66     YearBuilt_1915.0  0.550899\n",
       "15  PropertyZip_78703.0  0.528475\n",
       "58     YearBuilt_1900.0  0.488385\n",
       "17  PropertyZip_78705.0  0.457258\n",
       "16  PropertyZip_78704.0  0.420431\n",
       "78     YearBuilt_1927.0  0.339059\n",
       "48  PropertyZip_78751.0  0.337198"
      ]
     },
     "execution_count": 22,
     "metadata": {},
     "output_type": "execute_result"
    }
   ],
   "source": [
    "LR_coefficients.sort_values(1, ascending=False).head(10)"
   ]
  },
  {
   "cell_type": "markdown",
   "metadata": {},
   "source": [
    "### Ridge regression"
   ]
  },
  {
   "cell_type": "code",
   "execution_count": 23,
   "metadata": {},
   "outputs": [
    {
     "data": {
      "text/plain": [
       "RidgeCV(alphas=(0.1, 1.0, 10.0), cv=10, fit_intercept=True, gcv_mode=None,\n",
       "    normalize=False, scoring=None, store_cv_values=False)"
      ]
     },
     "execution_count": 23,
     "metadata": {},
     "output_type": "execute_result"
    }
   ],
   "source": [
    "reg_RidgeCV = RidgeCV(cv=10)\n",
    "reg_RidgeCV.fit(train_reg_X, train_reg_y)"
   ]
  },
  {
   "cell_type": "code",
   "execution_count": 24,
   "metadata": {
    "scrolled": true
   },
   "outputs": [
    {
     "name": "stdout",
     "output_type": "stream",
     "text": [
      "Train R-squared: 0.894\n",
      "Train Adjusted R-squared: 0.893\n",
      "Val R-squared: 0.874\n",
      "Val Adjusted R-squared: 0.869\n",
      "Test R-squared: 0.886\n",
      "Test Adjusted R-squared: 0.883\n"
     ]
    }
   ],
   "source": [
    "print('Train R-squared: {:.3}'.format(reg_RidgeCV.score(train_reg_X, train_reg_y)))\n",
    "print('Train Adjusted R-squared: {:.3}'.format(get_adjusted_r2(reg_RidgeCV, train_reg_X, train_reg_y)))\n",
    "\n",
    "print('Val R-squared: {:.3}'.format(reg_RidgeCV.score(val_reg_X, val_reg_y)))\n",
    "print('Val Adjusted R-squared: {:.3}'.format(get_adjusted_r2(reg_RidgeCV, val_reg_X, val_reg_y)))\n",
    "\n",
    "print('Test R-squared: {:.3}'.format(reg_RidgeCV.score(test_reg_X, test_reg_y)))\n",
    "print('Test Adjusted R-squared: {:.3}'.format(get_adjusted_r2(reg_RidgeCV, test_reg_X, test_reg_y)))"
   ]
  },
  {
   "cell_type": "code",
   "execution_count": 25,
   "metadata": {
    "scrolled": true
   },
   "outputs": [
    {
     "name": "stdout",
     "output_type": "stream",
     "text": [
      "Train MAE: 145641.81881967245\n",
      "Val MAE: 258307.65336086458\n",
      "Test MAE: 100849.11238132621\n"
     ]
    }
   ],
   "source": [
    "print('Train MAE: {}'.format(mean_absolute_error(y_true = [i for i in salePriceReg_train['NormalizedSalePrice']], y_pred = [max(np.exp(i)[0],0) for i in reg_RidgeCV.predict(train_reg_X)])))\n",
    "print('Val MAE: {}'.format(mean_absolute_error(y_true = [i for i in salePriceReg_val['NormalizedSalePrice']], y_pred = [max(np.exp(i)[0],0) for i in reg_RidgeCV.predict(val_reg_X)])))\n",
    "print('Test MAE: {}'.format(mean_absolute_error(y_true = [i for i in salePriceReg_test['NormalizedSalePrice']], y_pred = [max(np.exp(i)[0],0) for i in reg_RidgeCV.predict(test_reg_X)])))\n"
   ]
  },
  {
   "cell_type": "code",
   "execution_count": 26,
   "metadata": {},
   "outputs": [
    {
     "name": "stdout",
     "output_type": "stream",
     "text": [
      "Train MAPE: [13.01630627]\n",
      "Val MAPE: [15.1305344]\n",
      "Test MAPE: [13.19548038]\n"
     ]
    }
   ],
   "source": [
    "print('Train MAPE: {}'.format(get_mape(y_true = salePriceReg_train['NormalizedSalePrice'], y_pred = [max(np.exp(i),0) for i in reg_RidgeCV.predict(train_reg_X)])))\n",
    "print('Val MAPE: {}'.format(get_mape(y_true = salePriceReg_val['NormalizedSalePrice'], y_pred = [max(np.exp(i),0) for i in reg_RidgeCV.predict(val_reg_X)])))\n",
    "print('Test MAPE: {}'.format(get_mape(y_true = salePriceReg_test['NormalizedSalePrice'], y_pred = [max(np.exp(i),0) for i in reg_RidgeCV.predict(test_reg_X)])))\n"
   ]
  },
  {
   "cell_type": "code",
   "execution_count": 27,
   "metadata": {
    "collapsed": true
   },
   "outputs": [],
   "source": [
    "Ridge_coefficients = pd.DataFrame([train_reg_X.columns, reg_RidgeCV.coef_[0]]).T"
   ]
  },
  {
   "cell_type": "markdown",
   "metadata": {},
   "source": [
    "Top 10 positive features"
   ]
  },
  {
   "cell_type": "code",
   "execution_count": 28,
   "metadata": {
    "scrolled": true
   },
   "outputs": [
    {
     "data": {
      "text/html": [
       "<div>\n",
       "<style scoped>\n",
       "    .dataframe tbody tr th:only-of-type {\n",
       "        vertical-align: middle;\n",
       "    }\n",
       "\n",
       "    .dataframe tbody tr th {\n",
       "        vertical-align: top;\n",
       "    }\n",
       "\n",
       "    .dataframe thead th {\n",
       "        text-align: right;\n",
       "    }\n",
       "</style>\n",
       "<table border=\"1\" class=\"dataframe\">\n",
       "  <thead>\n",
       "    <tr style=\"text-align: right;\">\n",
       "      <th></th>\n",
       "      <th>0</th>\n",
       "      <th>1</th>\n",
       "    </tr>\n",
       "  </thead>\n",
       "  <tbody>\n",
       "    <tr>\n",
       "      <th>15</th>\n",
       "      <td>PropertyZip_78703.0</td>\n",
       "      <td>0.49476</td>\n",
       "    </tr>\n",
       "    <tr>\n",
       "      <th>16</th>\n",
       "      <td>PropertyZip_78704.0</td>\n",
       "      <td>0.408075</td>\n",
       "    </tr>\n",
       "    <tr>\n",
       "      <th>17</th>\n",
       "      <td>PropertyZip_78705.0</td>\n",
       "      <td>0.361981</td>\n",
       "    </tr>\n",
       "    <tr>\n",
       "      <th>48</th>\n",
       "      <td>PropertyZip_78751.0</td>\n",
       "      <td>0.307873</td>\n",
       "    </tr>\n",
       "    <tr>\n",
       "      <th>43</th>\n",
       "      <td>PropertyZip_78746.0</td>\n",
       "      <td>0.297105</td>\n",
       "    </tr>\n",
       "    <tr>\n",
       "      <th>52</th>\n",
       "      <td>PropertyZip_78756.0</td>\n",
       "      <td>0.291152</td>\n",
       "    </tr>\n",
       "    <tr>\n",
       "      <th>30</th>\n",
       "      <td>PropertyZip_78731.0</td>\n",
       "      <td>0.280626</td>\n",
       "    </tr>\n",
       "    <tr>\n",
       "      <th>14</th>\n",
       "      <td>PropertyZip_78702.0</td>\n",
       "      <td>0.268107</td>\n",
       "    </tr>\n",
       "    <tr>\n",
       "      <th>21</th>\n",
       "      <td>PropertyZip_78722.0</td>\n",
       "      <td>0.240167</td>\n",
       "    </tr>\n",
       "    <tr>\n",
       "      <th>62</th>\n",
       "      <td>YearBuilt_1910.0</td>\n",
       "      <td>0.234493</td>\n",
       "    </tr>\n",
       "  </tbody>\n",
       "</table>\n",
       "</div>"
      ],
      "text/plain": [
       "                      0         1\n",
       "15  PropertyZip_78703.0   0.49476\n",
       "16  PropertyZip_78704.0  0.408075\n",
       "17  PropertyZip_78705.0  0.361981\n",
       "48  PropertyZip_78751.0  0.307873\n",
       "43  PropertyZip_78746.0  0.297105\n",
       "52  PropertyZip_78756.0  0.291152\n",
       "30  PropertyZip_78731.0  0.280626\n",
       "14  PropertyZip_78702.0  0.268107\n",
       "21  PropertyZip_78722.0  0.240167\n",
       "62     YearBuilt_1910.0  0.234493"
      ]
     },
     "execution_count": 28,
     "metadata": {},
     "output_type": "execute_result"
    }
   ],
   "source": [
    "Ridge_coefficients.sort_values(by=1, ascending=False).head(10)"
   ]
  },
  {
   "cell_type": "markdown",
   "metadata": {},
   "source": [
    "Top 10 negative features"
   ]
  },
  {
   "cell_type": "code",
   "execution_count": 29,
   "metadata": {
    "scrolled": true
   },
   "outputs": [
    {
     "data": {
      "text/html": [
       "<div>\n",
       "<style scoped>\n",
       "    .dataframe tbody tr th:only-of-type {\n",
       "        vertical-align: middle;\n",
       "    }\n",
       "\n",
       "    .dataframe tbody tr th {\n",
       "        vertical-align: top;\n",
       "    }\n",
       "\n",
       "    .dataframe thead th {\n",
       "        text-align: right;\n",
       "    }\n",
       "</style>\n",
       "<table border=\"1\" class=\"dataframe\">\n",
       "  <thead>\n",
       "    <tr style=\"text-align: right;\">\n",
       "      <th></th>\n",
       "      <th>0</th>\n",
       "      <th>1</th>\n",
       "    </tr>\n",
       "  </thead>\n",
       "  <tbody>\n",
       "    <tr>\n",
       "      <th>41</th>\n",
       "      <td>PropertyZip_78744.0</td>\n",
       "      <td>-0.333913</td>\n",
       "    </tr>\n",
       "    <tr>\n",
       "      <th>19</th>\n",
       "      <td>PropertyZip_78719.0</td>\n",
       "      <td>-0.307835</td>\n",
       "    </tr>\n",
       "    <tr>\n",
       "      <th>44</th>\n",
       "      <td>PropertyZip_78747.0</td>\n",
       "      <td>-0.285578</td>\n",
       "    </tr>\n",
       "    <tr>\n",
       "      <th>24</th>\n",
       "      <td>PropertyZip_78725.0</td>\n",
       "      <td>-0.268902</td>\n",
       "    </tr>\n",
       "    <tr>\n",
       "      <th>51</th>\n",
       "      <td>PropertyZip_78754.0</td>\n",
       "      <td>-0.258191</td>\n",
       "    </tr>\n",
       "    <tr>\n",
       "      <th>45</th>\n",
       "      <td>PropertyZip_78748.0</td>\n",
       "      <td>-0.219171</td>\n",
       "    </tr>\n",
       "    <tr>\n",
       "      <th>23</th>\n",
       "      <td>PropertyZip_78724.0</td>\n",
       "      <td>-0.212823</td>\n",
       "    </tr>\n",
       "    <tr>\n",
       "      <th>50</th>\n",
       "      <td>PropertyZip_78753.0</td>\n",
       "      <td>-0.207925</td>\n",
       "    </tr>\n",
       "    <tr>\n",
       "      <th>33</th>\n",
       "      <td>PropertyZip_78734.0</td>\n",
       "      <td>-0.186811</td>\n",
       "    </tr>\n",
       "    <tr>\n",
       "      <th>27</th>\n",
       "      <td>PropertyZip_78728.0</td>\n",
       "      <td>-0.180974</td>\n",
       "    </tr>\n",
       "  </tbody>\n",
       "</table>\n",
       "</div>"
      ],
      "text/plain": [
       "                      0         1\n",
       "41  PropertyZip_78744.0 -0.333913\n",
       "19  PropertyZip_78719.0 -0.307835\n",
       "44  PropertyZip_78747.0 -0.285578\n",
       "24  PropertyZip_78725.0 -0.268902\n",
       "51  PropertyZip_78754.0 -0.258191\n",
       "45  PropertyZip_78748.0 -0.219171\n",
       "23  PropertyZip_78724.0 -0.212823\n",
       "50  PropertyZip_78753.0 -0.207925\n",
       "33  PropertyZip_78734.0 -0.186811\n",
       "27  PropertyZip_78728.0 -0.180974"
      ]
     },
     "execution_count": 29,
     "metadata": {},
     "output_type": "execute_result"
    }
   ],
   "source": [
    "Ridge_coefficients.sort_values(by=1, ascending=True).head(10)"
   ]
  },
  {
   "cell_type": "markdown",
   "metadata": {},
   "source": [
    "### Lasso Regression"
   ]
  },
  {
   "cell_type": "code",
   "execution_count": 30,
   "metadata": {},
   "outputs": [
    {
     "name": "stderr",
     "output_type": "stream",
     "text": [
      "/Library/Frameworks/Python.framework/Versions/3.6/lib/python3.6/site-packages/sklearn/linear_model/coordinate_descent.py:1094: DataConversionWarning: A column-vector y was passed when a 1d array was expected. Please change the shape of y to (n_samples, ), for example using ravel().\n",
      "  y = column_or_1d(y, warn=True)\n"
     ]
    },
    {
     "data": {
      "text/plain": [
       "LassoCV(alphas=None, copy_X=True, cv=10, eps=0.001, fit_intercept=True,\n",
       "    max_iter=1000, n_alphas=100, n_jobs=1, normalize=False, positive=False,\n",
       "    precompute='auto', random_state=None, selection='cyclic', tol=0.0001,\n",
       "    verbose=False)"
      ]
     },
     "execution_count": 30,
     "metadata": {},
     "output_type": "execute_result"
    }
   ],
   "source": [
    "reg_LassoCV = LassoCV(cv=10)\n",
    "reg_LassoCV.fit(train_reg_X, train_reg_y)"
   ]
  },
  {
   "cell_type": "code",
   "execution_count": 31,
   "metadata": {
    "scrolled": true
   },
   "outputs": [
    {
     "name": "stdout",
     "output_type": "stream",
     "text": [
      "Train R-squared: 0.887\n",
      "Train Adjusted R-squared: 0.885\n",
      "Val R-squared: 0.869\n",
      "Val Adjusted R-squared: 0.863\n",
      "Test R-squared: 0.882\n",
      "Test Adjusted R-squared: 0.878\n"
     ]
    }
   ],
   "source": [
    "print('Train R-squared: {:.3}'.format(reg_LassoCV.score(train_reg_X, train_reg_y)))\n",
    "print('Train Adjusted R-squared: {:.3}'.format(get_adjusted_r2(reg_LassoCV, train_reg_X, train_reg_y)))\n",
    "\n",
    "print('Val R-squared: {:.3}'.format(reg_LassoCV.score(val_reg_X, val_reg_y)))\n",
    "print('Val Adjusted R-squared: {:.3}'.format(get_adjusted_r2(reg_LassoCV, val_reg_X, val_reg_y)))\n",
    "\n",
    "print('Test R-squared: {:.3}'.format(reg_LassoCV.score(test_reg_X, test_reg_y)))\n",
    "print('Test Adjusted R-squared: {:.3}'.format(get_adjusted_r2(reg_LassoCV, test_reg_X, test_reg_y)))"
   ]
  },
  {
   "cell_type": "code",
   "execution_count": 32,
   "metadata": {
    "scrolled": true
   },
   "outputs": [
    {
     "name": "stdout",
     "output_type": "stream",
     "text": [
      "Train MAE: 193342.29816446913\n",
      "Val MAE: 275366.4410799308\n",
      "Test MAE: 104976.02313217708\n"
     ]
    }
   ],
   "source": [
    "print('Train MAE: {}'.format(mean_absolute_error(y_true = salePriceReg_train['NormalizedSalePrice'], y_pred = [max(np.exp(i),0) for i in reg_LassoCV.predict(train_reg_X)])))\n",
    "print('Val MAE: {}'.format(mean_absolute_error(y_true = salePriceReg_val['NormalizedSalePrice'], y_pred = [max(np.exp(i),0) for i in reg_LassoCV.predict(val_reg_X)])))\n",
    "print('Test MAE: {}'.format(mean_absolute_error(y_true = salePriceReg_test['NormalizedSalePrice'], y_pred = [max(np.exp(i),0) for i in reg_LassoCV.predict(test_reg_X)])))\n"
   ]
  },
  {
   "cell_type": "code",
   "execution_count": 33,
   "metadata": {},
   "outputs": [
    {
     "name": "stdout",
     "output_type": "stream",
     "text": [
      "Train MAPE: 13.844224630011404\n",
      "Val MAPE: 15.614956724300077\n",
      "Test MAPE: 13.516682590579673\n"
     ]
    }
   ],
   "source": [
    "print('Train MAPE: {}'.format(get_mape(y_true = salePriceReg_train['NormalizedSalePrice'], y_pred = [max(np.exp(i),0) for i in reg_LassoCV.predict(train_reg_X)])))\n",
    "print('Val MAPE: {}'.format(get_mape(y_true = salePriceReg_val['NormalizedSalePrice'], y_pred = [max(np.exp(i),0) for i in reg_LassoCV.predict(val_reg_X)])))\n",
    "print('Test MAPE: {}'.format(get_mape(y_true = salePriceReg_test['NormalizedSalePrice'], y_pred = [max(np.exp(i),0) for i in reg_LassoCV.predict(test_reg_X)])))\n"
   ]
  },
  {
   "cell_type": "markdown",
   "metadata": {},
   "source": [
    "Top 10 positive features"
   ]
  },
  {
   "cell_type": "code",
   "execution_count": 34,
   "metadata": {
    "collapsed": true
   },
   "outputs": [],
   "source": [
    "Lasso_coefficients = pd.DataFrame([train_reg_X.columns, reg_LassoCV.coef_]).T"
   ]
  },
  {
   "cell_type": "code",
   "execution_count": 35,
   "metadata": {
    "scrolled": true
   },
   "outputs": [
    {
     "data": {
      "text/html": [
       "<div>\n",
       "<style scoped>\n",
       "    .dataframe tbody tr th:only-of-type {\n",
       "        vertical-align: middle;\n",
       "    }\n",
       "\n",
       "    .dataframe tbody tr th {\n",
       "        vertical-align: top;\n",
       "    }\n",
       "\n",
       "    .dataframe thead th {\n",
       "        text-align: right;\n",
       "    }\n",
       "</style>\n",
       "<table border=\"1\" class=\"dataframe\">\n",
       "  <thead>\n",
       "    <tr style=\"text-align: right;\">\n",
       "      <th></th>\n",
       "      <th>0</th>\n",
       "      <th>1</th>\n",
       "    </tr>\n",
       "  </thead>\n",
       "  <tbody>\n",
       "    <tr>\n",
       "      <th>15</th>\n",
       "      <td>PropertyZip_78703.0</td>\n",
       "      <td>0.525624</td>\n",
       "    </tr>\n",
       "    <tr>\n",
       "      <th>16</th>\n",
       "      <td>PropertyZip_78704.0</td>\n",
       "      <td>0.443029</td>\n",
       "    </tr>\n",
       "    <tr>\n",
       "      <th>48</th>\n",
       "      <td>PropertyZip_78751.0</td>\n",
       "      <td>0.334299</td>\n",
       "    </tr>\n",
       "    <tr>\n",
       "      <th>52</th>\n",
       "      <td>PropertyZip_78756.0</td>\n",
       "      <td>0.315503</td>\n",
       "    </tr>\n",
       "    <tr>\n",
       "      <th>17</th>\n",
       "      <td>PropertyZip_78705.0</td>\n",
       "      <td>0.309331</td>\n",
       "    </tr>\n",
       "    <tr>\n",
       "      <th>43</th>\n",
       "      <td>PropertyZip_78746.0</td>\n",
       "      <td>0.303621</td>\n",
       "    </tr>\n",
       "    <tr>\n",
       "      <th>30</th>\n",
       "      <td>PropertyZip_78731.0</td>\n",
       "      <td>0.302143</td>\n",
       "    </tr>\n",
       "    <tr>\n",
       "      <th>14</th>\n",
       "      <td>PropertyZip_78702.0</td>\n",
       "      <td>0.294463</td>\n",
       "    </tr>\n",
       "    <tr>\n",
       "      <th>53</th>\n",
       "      <td>PropertyZip_78757.0</td>\n",
       "      <td>0.26027</td>\n",
       "    </tr>\n",
       "    <tr>\n",
       "      <th>21</th>\n",
       "      <td>PropertyZip_78722.0</td>\n",
       "      <td>0.2347</td>\n",
       "    </tr>\n",
       "  </tbody>\n",
       "</table>\n",
       "</div>"
      ],
      "text/plain": [
       "                      0         1\n",
       "15  PropertyZip_78703.0  0.525624\n",
       "16  PropertyZip_78704.0  0.443029\n",
       "48  PropertyZip_78751.0  0.334299\n",
       "52  PropertyZip_78756.0  0.315503\n",
       "17  PropertyZip_78705.0  0.309331\n",
       "43  PropertyZip_78746.0  0.303621\n",
       "30  PropertyZip_78731.0  0.302143\n",
       "14  PropertyZip_78702.0  0.294463\n",
       "53  PropertyZip_78757.0   0.26027\n",
       "21  PropertyZip_78722.0    0.2347"
      ]
     },
     "execution_count": 35,
     "metadata": {},
     "output_type": "execute_result"
    }
   ],
   "source": [
    "Lasso_coefficients.sort_values(by=1, ascending=False).head(10)"
   ]
  },
  {
   "cell_type": "markdown",
   "metadata": {},
   "source": [
    "Top 10 negative features"
   ]
  },
  {
   "cell_type": "code",
   "execution_count": 36,
   "metadata": {
    "scrolled": true
   },
   "outputs": [
    {
     "data": {
      "text/html": [
       "<div>\n",
       "<style scoped>\n",
       "    .dataframe tbody tr th:only-of-type {\n",
       "        vertical-align: middle;\n",
       "    }\n",
       "\n",
       "    .dataframe tbody tr th {\n",
       "        vertical-align: top;\n",
       "    }\n",
       "\n",
       "    .dataframe thead th {\n",
       "        text-align: right;\n",
       "    }\n",
       "</style>\n",
       "<table border=\"1\" class=\"dataframe\">\n",
       "  <thead>\n",
       "    <tr style=\"text-align: right;\">\n",
       "      <th></th>\n",
       "      <th>0</th>\n",
       "      <th>1</th>\n",
       "    </tr>\n",
       "  </thead>\n",
       "  <tbody>\n",
       "    <tr>\n",
       "      <th>41</th>\n",
       "      <td>PropertyZip_78744.0</td>\n",
       "      <td>-0.303033</td>\n",
       "    </tr>\n",
       "    <tr>\n",
       "      <th>44</th>\n",
       "      <td>PropertyZip_78747.0</td>\n",
       "      <td>-0.246604</td>\n",
       "    </tr>\n",
       "    <tr>\n",
       "      <th>24</th>\n",
       "      <td>PropertyZip_78725.0</td>\n",
       "      <td>-0.240769</td>\n",
       "    </tr>\n",
       "    <tr>\n",
       "      <th>51</th>\n",
       "      <td>PropertyZip_78754.0</td>\n",
       "      <td>-0.22348</td>\n",
       "    </tr>\n",
       "    <tr>\n",
       "      <th>23</th>\n",
       "      <td>PropertyZip_78724.0</td>\n",
       "      <td>-0.178862</td>\n",
       "    </tr>\n",
       "    <tr>\n",
       "      <th>45</th>\n",
       "      <td>PropertyZip_78748.0</td>\n",
       "      <td>-0.174026</td>\n",
       "    </tr>\n",
       "    <tr>\n",
       "      <th>50</th>\n",
       "      <td>PropertyZip_78753.0</td>\n",
       "      <td>-0.166571</td>\n",
       "    </tr>\n",
       "    <tr>\n",
       "      <th>27</th>\n",
       "      <td>PropertyZip_78728.0</td>\n",
       "      <td>-0.123889</td>\n",
       "    </tr>\n",
       "    <tr>\n",
       "      <th>54</th>\n",
       "      <td>PropertyZip_78758.0</td>\n",
       "      <td>-0.107283</td>\n",
       "    </tr>\n",
       "    <tr>\n",
       "      <th>192</th>\n",
       "      <td>ListYearMonth_2015-01</td>\n",
       "      <td>-0.080632</td>\n",
       "    </tr>\n",
       "  </tbody>\n",
       "</table>\n",
       "</div>"
      ],
      "text/plain": [
       "                         0         1\n",
       "41     PropertyZip_78744.0 -0.303033\n",
       "44     PropertyZip_78747.0 -0.246604\n",
       "24     PropertyZip_78725.0 -0.240769\n",
       "51     PropertyZip_78754.0  -0.22348\n",
       "23     PropertyZip_78724.0 -0.178862\n",
       "45     PropertyZip_78748.0 -0.174026\n",
       "50     PropertyZip_78753.0 -0.166571\n",
       "27     PropertyZip_78728.0 -0.123889\n",
       "54     PropertyZip_78758.0 -0.107283\n",
       "192  ListYearMonth_2015-01 -0.080632"
      ]
     },
     "execution_count": 36,
     "metadata": {},
     "output_type": "execute_result"
    }
   ],
   "source": [
    "Lasso_coefficients.sort_values(by=1, ascending=True).head(10)"
   ]
  },
  {
   "cell_type": "markdown",
   "metadata": {},
   "source": [
    "## Random Forest"
   ]
  },
  {
   "cell_type": "markdown",
   "metadata": {},
   "source": [
    "### Run Random Forest Regressor on Train and Val set "
   ]
  },
  {
   "cell_type": "code",
   "execution_count": 37,
   "metadata": {
    "scrolled": true
   },
   "outputs": [
    {
     "name": "stderr",
     "output_type": "stream",
     "text": [
      "/Library/Frameworks/Python.framework/Versions/3.6/lib/python3.6/site-packages/ipykernel_launcher.py:2: DataConversionWarning: A column-vector y was passed when a 1d array was expected. Please change the shape of y to (n_samples,), for example using ravel().\n",
      "  \n"
     ]
    },
    {
     "data": {
      "text/plain": [
       "RandomForestRegressor(bootstrap=True, criterion='mse', max_depth=None,\n",
       "           max_features='auto', max_leaf_nodes=None,\n",
       "           min_impurity_decrease=0.0, min_impurity_split=None,\n",
       "           min_samples_leaf=1, min_samples_split=2,\n",
       "           min_weight_fraction_leaf=0.0, n_estimators=10, n_jobs=1,\n",
       "           oob_score=False, random_state=None, verbose=0, warm_start=False)"
      ]
     },
     "execution_count": 37,
     "metadata": {},
     "output_type": "execute_result"
    }
   ],
   "source": [
    "RF = RandomForestRegressor()\n",
    "RF.fit(train_reg_X, train_reg_y)"
   ]
  },
  {
   "cell_type": "code",
   "execution_count": 38,
   "metadata": {},
   "outputs": [
    {
     "name": "stdout",
     "output_type": "stream",
     "text": [
      "Train R-squared: 0.986\n",
      "Train Adjusted R-squared: 0.986\n",
      "Val R-squared: 0.923\n",
      "Val Adjusted R-squared: 0.92\n",
      "Test R-squared: 0.914\n",
      "Test Adjusted R-squared: 0.912\n"
     ]
    }
   ],
   "source": [
    "print('Train R-squared: {:.3}'.format(RF.score(train_reg_X, train_reg_y)))\n",
    "print('Train Adjusted R-squared: {:.3}'.format(get_adjusted_r2(RF, train_reg_X, train_reg_y)))\n",
    "\n",
    "print('Val R-squared: {:.3}'.format(RF.score(val_reg_X, val_reg_y)))\n",
    "print('Val Adjusted R-squared: {:.3}'.format(get_adjusted_r2(RF, val_reg_X, val_reg_y)))\n",
    "\n",
    "print('Test R-squared: {:.3}'.format(RF.score(test_reg_X, test_reg_y)))\n",
    "print('Test Adjusted R-squared: {:.3}'.format(get_adjusted_r2(RF, test_reg_X, test_reg_y)))"
   ]
  },
  {
   "cell_type": "code",
   "execution_count": 39,
   "metadata": {
    "scrolled": false
   },
   "outputs": [
    {
     "name": "stdout",
     "output_type": "stream",
     "text": [
      "Train MAE: 472228.7287562554\n",
      "Val MAE: 466724.65950641764\n",
      "Test MAE: 472300.59128351125\n"
     ]
    }
   ],
   "source": [
    "print('Train MAE: {}'.format(mean_absolute_error(y_true = train_reg_y, y_pred = [max(np.exp(i),0) for i in RF.predict(train_reg_X)])))\n",
    "print('Val MAE: {}'.format(mean_absolute_error(y_true = val_reg_y, y_pred = [max(np.exp(i),0) for i in RF.predict(val_reg_X)])))\n",
    "print('Test MAE: {}'.format(mean_absolute_error(y_true = test_reg_y, y_pred = [max(np.exp(i),0) for i in RF.predict(test_reg_X)])))\n"
   ]
  },
  {
   "cell_type": "code",
   "execution_count": 40,
   "metadata": {
    "scrolled": true
   },
   "outputs": [
    {
     "name": "stdout",
     "output_type": "stream",
     "text": [
      "Train MAPE: 4.0484580539713395\n",
      "Val MAPE: 10.104251802687973\n",
      "Test MAPE: 10.55014891923538\n"
     ]
    }
   ],
   "source": [
    "print('Train MAPE: {}'.format(get_mape(y_true = salePriceReg_train['NormalizedSalePrice'], y_pred = [max(np.exp(i),0) for i in RF.predict(train_reg_X)])))\n",
    "print('Val MAPE: {}'.format(get_mape(y_true = salePriceReg_val['NormalizedSalePrice'], y_pred = [max(np.exp(i),0) for i in RF.predict(val_reg_X)])))\n",
    "print('Test MAPE: {}'.format(get_mape(y_true = salePriceReg_test['NormalizedSalePrice'], y_pred = [max(np.exp(i),0) for i in RF.predict(test_reg_X)])))\n"
   ]
  },
  {
   "cell_type": "code",
   "execution_count": 41,
   "metadata": {},
   "outputs": [
    {
     "name": "stdout",
     "output_type": "stream",
     "text": [
      "Train MdAPE: 2.63556510450791\n",
      "Val MdAPE: 6.872047559513129\n",
      "Test MdAPE: 7.234842363102628\n"
     ]
    }
   ],
   "source": [
    "print('Train MdAPE: {}'.format(get_mdape(y_true = salePriceReg_train['NormalizedSalePrice'], y_pred = [max(np.exp(i),0) for i in RF.predict(train_reg_X)])))\n",
    "print('Val MdAPE: {}'.format(get_mdape(y_true = salePriceReg_val['NormalizedSalePrice'], y_pred = [max(np.exp(i),0) for i in RF.predict(val_reg_X)])))\n",
    "print('Test MdAPE: {}'.format(get_mdape(y_true = salePriceReg_test['NormalizedSalePrice'], y_pred = [max(np.exp(i),0) for i in RF.predict(test_reg_X)])))\n"
   ]
  },
  {
   "cell_type": "markdown",
   "metadata": {},
   "source": [
    "### With Grid Search"
   ]
  },
  {
   "cell_type": "code",
   "execution_count": 340,
   "metadata": {
    "collapsed": true
   },
   "outputs": [],
   "source": [
    "rfr = RandomForestRegressor()"
   ]
  },
  {
   "cell_type": "code",
   "execution_count": 346,
   "metadata": {
    "collapsed": true
   },
   "outputs": [],
   "source": [
    "parameters_rfr = {'n_estimators':[300],\n",
    "                  'min_samples_split':range(2,5),\n",
    "                  'max_depth':range(12,7,-1)\n",
    "                 }"
   ]
  },
  {
   "cell_type": "code",
   "execution_count": 347,
   "metadata": {
    "collapsed": true
   },
   "outputs": [],
   "source": [
    "search_rfr = GridSearchCV(rfr, parameters_rfr, verbose=5, n_jobs=-1)"
   ]
  },
  {
   "cell_type": "code",
   "execution_count": 348,
   "metadata": {
    "scrolled": true
   },
   "outputs": [
    {
     "name": "stdout",
     "output_type": "stream",
     "text": [
      "Fitting 3 folds for each of 15 candidates, totalling 45 fits\n",
      "[CV] max_depth=12, min_samples_split=2, n_estimators=300 .............\n",
      "[CV] max_depth=12, min_samples_split=2, n_estimators=300 .............\n"
     ]
    },
    {
     "name": "stderr",
     "output_type": "stream",
     "text": [
      "/Library/Frameworks/Python.framework/Versions/3.6/lib/python3.6/site-packages/sklearn/model_selection/_validation.py:458: DataConversionWarning: A column-vector y was passed when a 1d array was expected. Please change the shape of y to (n_samples,), for example using ravel().\n",
      "  estimator.fit(X_train, y_train, **fit_params)\n"
     ]
    },
    {
     "name": "stdout",
     "output_type": "stream",
     "text": [
      "[CV] max_depth=12, min_samples_split=2, n_estimators=300 .............\n"
     ]
    },
    {
     "name": "stderr",
     "output_type": "stream",
     "text": [
      "/Library/Frameworks/Python.framework/Versions/3.6/lib/python3.6/site-packages/sklearn/model_selection/_validation.py:458: DataConversionWarning: A column-vector y was passed when a 1d array was expected. Please change the shape of y to (n_samples,), for example using ravel().\n",
      "  estimator.fit(X_train, y_train, **fit_params)\n"
     ]
    },
    {
     "name": "stdout",
     "output_type": "stream",
     "text": [
      "[CV] max_depth=12, min_samples_split=3, n_estimators=300 .............\n"
     ]
    },
    {
     "name": "stderr",
     "output_type": "stream",
     "text": [
      "/Library/Frameworks/Python.framework/Versions/3.6/lib/python3.6/site-packages/sklearn/model_selection/_validation.py:458: DataConversionWarning: A column-vector y was passed when a 1d array was expected. Please change the shape of y to (n_samples,), for example using ravel().\n",
      "  estimator.fit(X_train, y_train, **fit_params)\n"
     ]
    },
    {
     "name": "stdout",
     "output_type": "stream",
     "text": [
      "[CV] max_depth=12, min_samples_split=3, n_estimators=300 .............\n",
      "[CV] max_depth=12, min_samples_split=3, n_estimators=300 .............\n"
     ]
    },
    {
     "name": "stderr",
     "output_type": "stream",
     "text": [
      "/Library/Frameworks/Python.framework/Versions/3.6/lib/python3.6/site-packages/sklearn/model_selection/_validation.py:458: DataConversionWarning: A column-vector y was passed when a 1d array was expected. Please change the shape of y to (n_samples,), for example using ravel().\n",
      "  estimator.fit(X_train, y_train, **fit_params)\n"
     ]
    },
    {
     "name": "stdout",
     "output_type": "stream",
     "text": [
      "[CV] max_depth=12, min_samples_split=4, n_estimators=300 .............\n",
      "[CV] max_depth=12, min_samples_split=4, n_estimators=300 .............\n"
     ]
    },
    {
     "name": "stderr",
     "output_type": "stream",
     "text": [
      "/Library/Frameworks/Python.framework/Versions/3.6/lib/python3.6/site-packages/sklearn/model_selection/_validation.py:458: DataConversionWarning: A column-vector y was passed when a 1d array was expected. Please change the shape of y to (n_samples,), for example using ravel().\n",
      "  estimator.fit(X_train, y_train, **fit_params)\n",
      "/Library/Frameworks/Python.framework/Versions/3.6/lib/python3.6/site-packages/sklearn/model_selection/_validation.py:458: DataConversionWarning: A column-vector y was passed when a 1d array was expected. Please change the shape of y to (n_samples,), for example using ravel().\n",
      "  estimator.fit(X_train, y_train, **fit_params)\n",
      "/Library/Frameworks/Python.framework/Versions/3.6/lib/python3.6/site-packages/sklearn/model_selection/_validation.py:458: DataConversionWarning: A column-vector y was passed when a 1d array was expected. Please change the shape of y to (n_samples,), for example using ravel().\n",
      "  estimator.fit(X_train, y_train, **fit_params)\n",
      "/Library/Frameworks/Python.framework/Versions/3.6/lib/python3.6/site-packages/sklearn/model_selection/_validation.py:458: DataConversionWarning: A column-vector y was passed when a 1d array was expected. Please change the shape of y to (n_samples,), for example using ravel().\n",
      "  estimator.fit(X_train, y_train, **fit_params)\n"
     ]
    },
    {
     "name": "stdout",
     "output_type": "stream",
     "text": [
      "[CV]  max_depth=12, min_samples_split=4, n_estimators=300, score=0.9183777157106086, total= 1.9min\n",
      "[CV] max_depth=12, min_samples_split=4, n_estimators=300 .............\n"
     ]
    },
    {
     "name": "stderr",
     "output_type": "stream",
     "text": [
      "/Library/Frameworks/Python.framework/Versions/3.6/lib/python3.6/site-packages/sklearn/model_selection/_validation.py:458: DataConversionWarning: A column-vector y was passed when a 1d array was expected. Please change the shape of y to (n_samples,), for example using ravel().\n",
      "  estimator.fit(X_train, y_train, **fit_params)\n"
     ]
    },
    {
     "name": "stdout",
     "output_type": "stream",
     "text": [
      "[CV]  max_depth=12, min_samples_split=2, n_estimators=300, score=0.9184879205381411, total= 1.9min\n",
      "[CV] max_depth=11, min_samples_split=2, n_estimators=300 .............\n",
      "[CV]  max_depth=12, min_samples_split=3, n_estimators=300, score=0.9184176104287679, total= 1.9min\n",
      "[CV] max_depth=11, min_samples_split=2, n_estimators=300 .............\n"
     ]
    },
    {
     "name": "stderr",
     "output_type": "stream",
     "text": [
      "/Library/Frameworks/Python.framework/Versions/3.6/lib/python3.6/site-packages/sklearn/model_selection/_validation.py:458: DataConversionWarning: A column-vector y was passed when a 1d array was expected. Please change the shape of y to (n_samples,), for example using ravel().\n",
      "  estimator.fit(X_train, y_train, **fit_params)\n",
      "[Parallel(n_jobs=-1)]: Done   2 tasks      | elapsed:  1.9min\n",
      "/Library/Frameworks/Python.framework/Versions/3.6/lib/python3.6/site-packages/sklearn/model_selection/_validation.py:458: DataConversionWarning: A column-vector y was passed when a 1d array was expected. Please change the shape of y to (n_samples,), for example using ravel().\n",
      "  estimator.fit(X_train, y_train, **fit_params)\n"
     ]
    },
    {
     "name": "stdout",
     "output_type": "stream",
     "text": [
      "[CV]  max_depth=12, min_samples_split=3, n_estimators=300, score=0.9196625861646543, total= 1.9min\n",
      "[CV] max_depth=11, min_samples_split=2, n_estimators=300 .............\n"
     ]
    },
    {
     "name": "stderr",
     "output_type": "stream",
     "text": [
      "/Library/Frameworks/Python.framework/Versions/3.6/lib/python3.6/site-packages/sklearn/model_selection/_validation.py:458: DataConversionWarning: A column-vector y was passed when a 1d array was expected. Please change the shape of y to (n_samples,), for example using ravel().\n",
      "  estimator.fit(X_train, y_train, **fit_params)\n"
     ]
    },
    {
     "name": "stdout",
     "output_type": "stream",
     "text": [
      "[CV]  max_depth=12, min_samples_split=3, n_estimators=300, score=0.9182078602904148, total= 1.9min\n",
      "[CV] max_depth=11, min_samples_split=3, n_estimators=300 .............\n"
     ]
    },
    {
     "name": "stderr",
     "output_type": "stream",
     "text": [
      "/Library/Frameworks/Python.framework/Versions/3.6/lib/python3.6/site-packages/sklearn/model_selection/_validation.py:458: DataConversionWarning: A column-vector y was passed when a 1d array was expected. Please change the shape of y to (n_samples,), for example using ravel().\n",
      "  estimator.fit(X_train, y_train, **fit_params)\n"
     ]
    },
    {
     "name": "stdout",
     "output_type": "stream",
     "text": [
      "[CV]  max_depth=12, min_samples_split=2, n_estimators=300, score=0.9181846854114741, total= 1.9min\n",
      "[CV] max_depth=11, min_samples_split=3, n_estimators=300 .............\n",
      "[CV]  max_depth=12, min_samples_split=4, n_estimators=300, score=0.9197095851111511, total= 1.9min\n",
      "[CV] max_depth=11, min_samples_split=3, n_estimators=300 .............\n"
     ]
    },
    {
     "name": "stderr",
     "output_type": "stream",
     "text": [
      "/Library/Frameworks/Python.framework/Versions/3.6/lib/python3.6/site-packages/sklearn/model_selection/_validation.py:458: DataConversionWarning: A column-vector y was passed when a 1d array was expected. Please change the shape of y to (n_samples,), for example using ravel().\n",
      "  estimator.fit(X_train, y_train, **fit_params)\n",
      "/Library/Frameworks/Python.framework/Versions/3.6/lib/python3.6/site-packages/sklearn/model_selection/_validation.py:458: DataConversionWarning: A column-vector y was passed when a 1d array was expected. Please change the shape of y to (n_samples,), for example using ravel().\n",
      "  estimator.fit(X_train, y_train, **fit_params)\n"
     ]
    },
    {
     "name": "stdout",
     "output_type": "stream",
     "text": [
      "[CV]  max_depth=12, min_samples_split=2, n_estimators=300, score=0.9196324381378648, total= 1.9min\n",
      "[CV] max_depth=11, min_samples_split=4, n_estimators=300 .............\n"
     ]
    },
    {
     "name": "stderr",
     "output_type": "stream",
     "text": [
      "/Library/Frameworks/Python.framework/Versions/3.6/lib/python3.6/site-packages/sklearn/model_selection/_validation.py:458: DataConversionWarning: A column-vector y was passed when a 1d array was expected. Please change the shape of y to (n_samples,), for example using ravel().\n",
      "  estimator.fit(X_train, y_train, **fit_params)\n"
     ]
    },
    {
     "name": "stdout",
     "output_type": "stream",
     "text": [
      "[CV]  max_depth=11, min_samples_split=2, n_estimators=300, score=0.9169863870443458, total= 1.7min\n",
      "[CV] max_depth=11, min_samples_split=4, n_estimators=300 .............\n"
     ]
    },
    {
     "name": "stderr",
     "output_type": "stream",
     "text": [
      "/Library/Frameworks/Python.framework/Versions/3.6/lib/python3.6/site-packages/sklearn/model_selection/_validation.py:458: DataConversionWarning: A column-vector y was passed when a 1d array was expected. Please change the shape of y to (n_samples,), for example using ravel().\n",
      "  estimator.fit(X_train, y_train, **fit_params)\n"
     ]
    },
    {
     "name": "stdout",
     "output_type": "stream",
     "text": [
      "[CV]  max_depth=11, min_samples_split=3, n_estimators=300, score=0.9169691834971151, total= 1.7min\n",
      "[CV] max_depth=11, min_samples_split=4, n_estimators=300 .............\n"
     ]
    },
    {
     "name": "stderr",
     "output_type": "stream",
     "text": [
      "/Library/Frameworks/Python.framework/Versions/3.6/lib/python3.6/site-packages/sklearn/model_selection/_validation.py:458: DataConversionWarning: A column-vector y was passed when a 1d array was expected. Please change the shape of y to (n_samples,), for example using ravel().\n",
      "  estimator.fit(X_train, y_train, **fit_params)\n"
     ]
    },
    {
     "name": "stdout",
     "output_type": "stream",
     "text": [
      "[CV]  max_depth=11, min_samples_split=3, n_estimators=300, score=0.9169466756541775, total= 1.7min\n",
      "[CV] max_depth=10, min_samples_split=2, n_estimators=300 .............\n"
     ]
    },
    {
     "name": "stderr",
     "output_type": "stream",
     "text": [
      "/Library/Frameworks/Python.framework/Versions/3.6/lib/python3.6/site-packages/sklearn/model_selection/_validation.py:458: DataConversionWarning: A column-vector y was passed when a 1d array was expected. Please change the shape of y to (n_samples,), for example using ravel().\n",
      "  estimator.fit(X_train, y_train, **fit_params)\n"
     ]
    },
    {
     "name": "stdout",
     "output_type": "stream",
     "text": [
      "[CV]  max_depth=11, min_samples_split=2, n_estimators=300, score=0.9182214944338172, total= 1.7min\n",
      "[CV] max_depth=10, min_samples_split=2, n_estimators=300 .............\n"
     ]
    },
    {
     "name": "stderr",
     "output_type": "stream",
     "text": [
      "/Library/Frameworks/Python.framework/Versions/3.6/lib/python3.6/site-packages/sklearn/model_selection/_validation.py:458: DataConversionWarning: A column-vector y was passed when a 1d array was expected. Please change the shape of y to (n_samples,), for example using ravel().\n",
      "  estimator.fit(X_train, y_train, **fit_params)\n"
     ]
    },
    {
     "name": "stdout",
     "output_type": "stream",
     "text": [
      "[CV]  max_depth=11, min_samples_split=2, n_estimators=300, score=0.9170099801711796, total= 1.7min\n",
      "[CV] max_depth=10, min_samples_split=2, n_estimators=300 .............\n"
     ]
    },
    {
     "name": "stderr",
     "output_type": "stream",
     "text": [
      "/Library/Frameworks/Python.framework/Versions/3.6/lib/python3.6/site-packages/sklearn/model_selection/_validation.py:458: DataConversionWarning: A column-vector y was passed when a 1d array was expected. Please change the shape of y to (n_samples,), for example using ravel().\n",
      "  estimator.fit(X_train, y_train, **fit_params)\n"
     ]
    },
    {
     "name": "stdout",
     "output_type": "stream",
     "text": [
      "[CV]  max_depth=11, min_samples_split=3, n_estimators=300, score=0.9182813867461875, total= 1.7min\n",
      "[CV] max_depth=10, min_samples_split=3, n_estimators=300 .............\n"
     ]
    },
    {
     "name": "stderr",
     "output_type": "stream",
     "text": [
      "/Library/Frameworks/Python.framework/Versions/3.6/lib/python3.6/site-packages/sklearn/model_selection/_validation.py:458: DataConversionWarning: A column-vector y was passed when a 1d array was expected. Please change the shape of y to (n_samples,), for example using ravel().\n",
      "  estimator.fit(X_train, y_train, **fit_params)\n"
     ]
    },
    {
     "name": "stdout",
     "output_type": "stream",
     "text": [
      "[CV]  max_depth=11, min_samples_split=4, n_estimators=300, score=0.9183218695198417, total= 1.7min\n",
      "[CV] max_depth=10, min_samples_split=3, n_estimators=300 .............\n"
     ]
    },
    {
     "name": "stderr",
     "output_type": "stream",
     "text": [
      "/Library/Frameworks/Python.framework/Versions/3.6/lib/python3.6/site-packages/sklearn/model_selection/_validation.py:458: DataConversionWarning: A column-vector y was passed when a 1d array was expected. Please change the shape of y to (n_samples,), for example using ravel().\n",
      "  estimator.fit(X_train, y_train, **fit_params)\n"
     ]
    },
    {
     "name": "stdout",
     "output_type": "stream",
     "text": [
      "[CV]  max_depth=12, min_samples_split=4, n_estimators=300, score=0.9182644115237014, total= 1.9min\n",
      "[CV] max_depth=10, min_samples_split=3, n_estimators=300 .............\n"
     ]
    },
    {
     "name": "stderr",
     "output_type": "stream",
     "text": [
      "/Library/Frameworks/Python.framework/Versions/3.6/lib/python3.6/site-packages/sklearn/model_selection/_validation.py:458: DataConversionWarning: A column-vector y was passed when a 1d array was expected. Please change the shape of y to (n_samples,), for example using ravel().\n",
      "  estimator.fit(X_train, y_train, **fit_params)\n"
     ]
    },
    {
     "name": "stdout",
     "output_type": "stream",
     "text": [
      "[CV]  max_depth=10, min_samples_split=2, n_estimators=300, score=0.9155188940884822, total= 1.6min\n",
      "[CV] max_depth=10, min_samples_split=4, n_estimators=300 .............\n"
     ]
    },
    {
     "name": "stderr",
     "output_type": "stream",
     "text": [
      "/Library/Frameworks/Python.framework/Versions/3.6/lib/python3.6/site-packages/sklearn/model_selection/_validation.py:458: DataConversionWarning: A column-vector y was passed when a 1d array was expected. Please change the shape of y to (n_samples,), for example using ravel().\n",
      "  estimator.fit(X_train, y_train, **fit_params)\n"
     ]
    },
    {
     "name": "stdout",
     "output_type": "stream",
     "text": [
      "[CV]  max_depth=10, min_samples_split=3, n_estimators=300, score=0.9163518029221424, total= 1.6min\n",
      "[CV]  max_depth=10, min_samples_split=2, n_estimators=300, score=0.9154354719387886, total= 1.6min\n",
      "[CV] max_depth=10, min_samples_split=4, n_estimators=300 .............\n",
      "[CV] max_depth=10, min_samples_split=4, n_estimators=300 .............\n"
     ]
    },
    {
     "name": "stderr",
     "output_type": "stream",
     "text": [
      "/Library/Frameworks/Python.framework/Versions/3.6/lib/python3.6/site-packages/sklearn/model_selection/_validation.py:458: DataConversionWarning: A column-vector y was passed when a 1d array was expected. Please change the shape of y to (n_samples,), for example using ravel().\n",
      "  estimator.fit(X_train, y_train, **fit_params)\n",
      "/Library/Frameworks/Python.framework/Versions/3.6/lib/python3.6/site-packages/sklearn/model_selection/_validation.py:458: DataConversionWarning: A column-vector y was passed when a 1d array was expected. Please change the shape of y to (n_samples,), for example using ravel().\n",
      "  estimator.fit(X_train, y_train, **fit_params)\n"
     ]
    },
    {
     "name": "stdout",
     "output_type": "stream",
     "text": [
      "[CV]  max_depth=10, min_samples_split=2, n_estimators=300, score=0.916293783658808, total= 1.6min\n",
      "[CV] max_depth=9, min_samples_split=2, n_estimators=300 ..............\n"
     ]
    },
    {
     "name": "stderr",
     "output_type": "stream",
     "text": [
      "/Library/Frameworks/Python.framework/Versions/3.6/lib/python3.6/site-packages/sklearn/model_selection/_validation.py:458: DataConversionWarning: A column-vector y was passed when a 1d array was expected. Please change the shape of y to (n_samples,), for example using ravel().\n",
      "  estimator.fit(X_train, y_train, **fit_params)\n"
     ]
    },
    {
     "name": "stdout",
     "output_type": "stream",
     "text": [
      "[CV]  max_depth=10, min_samples_split=3, n_estimators=300, score=0.9155654083744976, total= 1.6min\n",
      "[CV] max_depth=9, min_samples_split=2, n_estimators=300 ..............\n"
     ]
    },
    {
     "name": "stderr",
     "output_type": "stream",
     "text": [
      "/Library/Frameworks/Python.framework/Versions/3.6/lib/python3.6/site-packages/sklearn/model_selection/_validation.py:458: DataConversionWarning: A column-vector y was passed when a 1d array was expected. Please change the shape of y to (n_samples,), for example using ravel().\n",
      "  estimator.fit(X_train, y_train, **fit_params)\n"
     ]
    },
    {
     "name": "stdout",
     "output_type": "stream",
     "text": [
      "[CV]  max_depth=10, min_samples_split=3, n_estimators=300, score=0.9152505840199372, total= 1.6min\n",
      "[CV] max_depth=9, min_samples_split=2, n_estimators=300 ..............\n"
     ]
    },
    {
     "name": "stderr",
     "output_type": "stream",
     "text": [
      "/Library/Frameworks/Python.framework/Versions/3.6/lib/python3.6/site-packages/sklearn/model_selection/_validation.py:458: DataConversionWarning: A column-vector y was passed when a 1d array was expected. Please change the shape of y to (n_samples,), for example using ravel().\n",
      "  estimator.fit(X_train, y_train, **fit_params)\n"
     ]
    },
    {
     "name": "stdout",
     "output_type": "stream",
     "text": [
      "[CV]  max_depth=11, min_samples_split=4, n_estimators=300, score=0.917069183907124, total= 1.7min\n",
      "[CV] max_depth=9, min_samples_split=3, n_estimators=300 ..............\n"
     ]
    },
    {
     "name": "stderr",
     "output_type": "stream",
     "text": [
      "/Library/Frameworks/Python.framework/Versions/3.6/lib/python3.6/site-packages/sklearn/model_selection/_validation.py:458: DataConversionWarning: A column-vector y was passed when a 1d array was expected. Please change the shape of y to (n_samples,), for example using ravel().\n",
      "  estimator.fit(X_train, y_train, **fit_params)\n"
     ]
    },
    {
     "name": "stdout",
     "output_type": "stream",
     "text": [
      "[CV]  max_depth=11, min_samples_split=4, n_estimators=300, score=0.9170065648878014, total= 1.7min\n",
      "[CV] max_depth=9, min_samples_split=3, n_estimators=300 ..............\n"
     ]
    },
    {
     "name": "stderr",
     "output_type": "stream",
     "text": [
      "/Library/Frameworks/Python.framework/Versions/3.6/lib/python3.6/site-packages/sklearn/model_selection/_validation.py:458: DataConversionWarning: A column-vector y was passed when a 1d array was expected. Please change the shape of y to (n_samples,), for example using ravel().\n",
      "  estimator.fit(X_train, y_train, **fit_params)\n"
     ]
    },
    {
     "name": "stdout",
     "output_type": "stream",
     "text": [
      "[CV]  max_depth=9, min_samples_split=2, n_estimators=300, score=0.9137386436584423, total= 1.5min\n",
      "[CV] max_depth=9, min_samples_split=3, n_estimators=300 ..............\n"
     ]
    },
    {
     "name": "stderr",
     "output_type": "stream",
     "text": [
      "/Library/Frameworks/Python.framework/Versions/3.6/lib/python3.6/site-packages/sklearn/model_selection/_validation.py:458: DataConversionWarning: A column-vector y was passed when a 1d array was expected. Please change the shape of y to (n_samples,), for example using ravel().\n",
      "  estimator.fit(X_train, y_train, **fit_params)\n"
     ]
    },
    {
     "name": "stdout",
     "output_type": "stream",
     "text": [
      "[CV]  max_depth=9, min_samples_split=2, n_estimators=300, score=0.9143540453805088, total= 1.5min\n",
      "[CV] max_depth=9, min_samples_split=4, n_estimators=300 ..............\n"
     ]
    },
    {
     "name": "stderr",
     "output_type": "stream",
     "text": [
      "/Library/Frameworks/Python.framework/Versions/3.6/lib/python3.6/site-packages/sklearn/model_selection/_validation.py:458: DataConversionWarning: A column-vector y was passed when a 1d array was expected. Please change the shape of y to (n_samples,), for example using ravel().\n",
      "  estimator.fit(X_train, y_train, **fit_params)\n"
     ]
    },
    {
     "name": "stdout",
     "output_type": "stream",
     "text": [
      "[CV]  max_depth=9, min_samples_split=3, n_estimators=300, score=0.9143973511885198, total= 1.5min\n",
      "[CV] max_depth=9, min_samples_split=4, n_estimators=300 ..............\n"
     ]
    },
    {
     "name": "stderr",
     "output_type": "stream",
     "text": [
      "/Library/Frameworks/Python.framework/Versions/3.6/lib/python3.6/site-packages/sklearn/model_selection/_validation.py:458: DataConversionWarning: A column-vector y was passed when a 1d array was expected. Please change the shape of y to (n_samples,), for example using ravel().\n",
      "  estimator.fit(X_train, y_train, **fit_params)\n"
     ]
    },
    {
     "name": "stdout",
     "output_type": "stream",
     "text": [
      "[CV]  max_depth=9, min_samples_split=2, n_estimators=300, score=0.913069113834886, total= 1.5min\n",
      "[CV] max_depth=9, min_samples_split=4, n_estimators=300 ..............\n"
     ]
    },
    {
     "name": "stderr",
     "output_type": "stream",
     "text": [
      "/Library/Frameworks/Python.framework/Versions/3.6/lib/python3.6/site-packages/sklearn/model_selection/_validation.py:458: DataConversionWarning: A column-vector y was passed when a 1d array was expected. Please change the shape of y to (n_samples,), for example using ravel().\n",
      "  estimator.fit(X_train, y_train, **fit_params)\n"
     ]
    },
    {
     "name": "stdout",
     "output_type": "stream",
     "text": [
      "[CV]  max_depth=9, min_samples_split=3, n_estimators=300, score=0.9136427917827845, total= 1.5min\n",
      "[CV] max_depth=8, min_samples_split=2, n_estimators=300 ..............\n"
     ]
    },
    {
     "name": "stderr",
     "output_type": "stream",
     "text": [
      "/Library/Frameworks/Python.framework/Versions/3.6/lib/python3.6/site-packages/sklearn/model_selection/_validation.py:458: DataConversionWarning: A column-vector y was passed when a 1d array was expected. Please change the shape of y to (n_samples,), for example using ravel().\n",
      "  estimator.fit(X_train, y_train, **fit_params)\n"
     ]
    },
    {
     "name": "stdout",
     "output_type": "stream",
     "text": [
      "[CV]  max_depth=10, min_samples_split=4, n_estimators=300, score=0.9164513923037294, total= 1.6min\n",
      "[CV]  max_depth=10, min_samples_split=4, n_estimators=300, score=0.9156140594133646, total= 1.6min\n",
      "[CV] max_depth=8, min_samples_split=2, n_estimators=300 ..............\n",
      "[CV] max_depth=8, min_samples_split=2, n_estimators=300 ..............\n"
     ]
    },
    {
     "name": "stderr",
     "output_type": "stream",
     "text": [
      "/Library/Frameworks/Python.framework/Versions/3.6/lib/python3.6/site-packages/sklearn/model_selection/_validation.py:458: DataConversionWarning: A column-vector y was passed when a 1d array was expected. Please change the shape of y to (n_samples,), for example using ravel().\n",
      "  estimator.fit(X_train, y_train, **fit_params)\n",
      "/Library/Frameworks/Python.framework/Versions/3.6/lib/python3.6/site-packages/sklearn/model_selection/_validation.py:458: DataConversionWarning: A column-vector y was passed when a 1d array was expected. Please change the shape of y to (n_samples,), for example using ravel().\n",
      "  estimator.fit(X_train, y_train, **fit_params)\n"
     ]
    },
    {
     "name": "stdout",
     "output_type": "stream",
     "text": [
      "[CV]  max_depth=10, min_samples_split=4, n_estimators=300, score=0.915129359442294, total= 1.6min\n",
      "[CV] max_depth=8, min_samples_split=3, n_estimators=300 ..............\n"
     ]
    },
    {
     "name": "stderr",
     "output_type": "stream",
     "text": [
      "/Library/Frameworks/Python.framework/Versions/3.6/lib/python3.6/site-packages/sklearn/model_selection/_validation.py:458: DataConversionWarning: A column-vector y was passed when a 1d array was expected. Please change the shape of y to (n_samples,), for example using ravel().\n",
      "  estimator.fit(X_train, y_train, **fit_params)\n"
     ]
    },
    {
     "name": "stdout",
     "output_type": "stream",
     "text": [
      "[CV]  max_depth=8, min_samples_split=2, n_estimators=300, score=0.9120449945392276, total= 1.3min\n",
      "[CV] max_depth=8, min_samples_split=3, n_estimators=300 ..............\n"
     ]
    },
    {
     "name": "stderr",
     "output_type": "stream",
     "text": [
      "/Library/Frameworks/Python.framework/Versions/3.6/lib/python3.6/site-packages/sklearn/model_selection/_validation.py:458: DataConversionWarning: A column-vector y was passed when a 1d array was expected. Please change the shape of y to (n_samples,), for example using ravel().\n",
      "  estimator.fit(X_train, y_train, **fit_params)\n"
     ]
    },
    {
     "name": "stdout",
     "output_type": "stream",
     "text": [
      "[CV]  max_depth=8, min_samples_split=2, n_estimators=300, score=0.9103807630284662, total= 1.3min\n",
      "[CV] max_depth=8, min_samples_split=3, n_estimators=300 ..............\n"
     ]
    },
    {
     "name": "stderr",
     "output_type": "stream",
     "text": [
      "/Library/Frameworks/Python.framework/Versions/3.6/lib/python3.6/site-packages/sklearn/model_selection/_validation.py:458: DataConversionWarning: A column-vector y was passed when a 1d array was expected. Please change the shape of y to (n_samples,), for example using ravel().\n",
      "  estimator.fit(X_train, y_train, **fit_params)\n"
     ]
    },
    {
     "name": "stdout",
     "output_type": "stream",
     "text": [
      "[CV]  max_depth=8, min_samples_split=2, n_estimators=300, score=0.9114327093485919, total= 1.3min\n",
      "[CV] max_depth=8, min_samples_split=4, n_estimators=300 ..............\n"
     ]
    },
    {
     "name": "stderr",
     "output_type": "stream",
     "text": [
      "/Library/Frameworks/Python.framework/Versions/3.6/lib/python3.6/site-packages/sklearn/model_selection/_validation.py:458: DataConversionWarning: A column-vector y was passed when a 1d array was expected. Please change the shape of y to (n_samples,), for example using ravel().\n",
      "  estimator.fit(X_train, y_train, **fit_params)\n"
     ]
    },
    {
     "name": "stdout",
     "output_type": "stream",
     "text": [
      "[CV]  max_depth=8, min_samples_split=3, n_estimators=300, score=0.9120236863703419, total= 1.4min\n",
      "[CV] max_depth=8, min_samples_split=4, n_estimators=300 ..............\n"
     ]
    },
    {
     "name": "stderr",
     "output_type": "stream",
     "text": [
      "/Library/Frameworks/Python.framework/Versions/3.6/lib/python3.6/site-packages/sklearn/model_selection/_validation.py:458: DataConversionWarning: A column-vector y was passed when a 1d array was expected. Please change the shape of y to (n_samples,), for example using ravel().\n",
      "  estimator.fit(X_train, y_train, **fit_params)\n"
     ]
    },
    {
     "name": "stdout",
     "output_type": "stream",
     "text": [
      "[CV]  max_depth=9, min_samples_split=3, n_estimators=300, score=0.9130960258415974, total= 1.5min\n",
      "[CV] max_depth=8, min_samples_split=4, n_estimators=300 ..............\n"
     ]
    },
    {
     "name": "stderr",
     "output_type": "stream",
     "text": [
      "/Library/Frameworks/Python.framework/Versions/3.6/lib/python3.6/site-packages/sklearn/model_selection/_validation.py:458: DataConversionWarning: A column-vector y was passed when a 1d array was expected. Please change the shape of y to (n_samples,), for example using ravel().\n",
      "  estimator.fit(X_train, y_train, **fit_params)\n"
     ]
    },
    {
     "name": "stdout",
     "output_type": "stream",
     "text": [
      "[CV]  max_depth=9, min_samples_split=4, n_estimators=300, score=0.9147756696098758, total= 1.5min\n",
      "[CV]  max_depth=9, min_samples_split=4, n_estimators=300, score=0.9136616191256871, total= 1.5min\n",
      "[CV]  max_depth=9, min_samples_split=4, n_estimators=300, score=0.9130396214497059, total= 1.5min\n"
     ]
    },
    {
     "name": "stderr",
     "output_type": "stream",
     "text": [
      "[Parallel(n_jobs=-1)]: Done  40 out of  45 | elapsed:  8.4min remaining:  1.1min\n"
     ]
    },
    {
     "name": "stdout",
     "output_type": "stream",
     "text": [
      "[CV]  max_depth=8, min_samples_split=3, n_estimators=300, score=0.9113074298254683, total= 1.1min\n",
      "[CV]  max_depth=8, min_samples_split=3, n_estimators=300, score=0.9104953922449184, total= 1.1min\n",
      "[CV]  max_depth=8, min_samples_split=4, n_estimators=300, score=0.9122551599246055, total= 1.1min\n",
      "[CV]  max_depth=8, min_samples_split=4, n_estimators=300, score=0.9113943196946825, total= 1.1min\n",
      "[CV]  max_depth=8, min_samples_split=4, n_estimators=300, score=0.9104928084859581, total= 1.1min\n"
     ]
    },
    {
     "name": "stderr",
     "output_type": "stream",
     "text": [
      "[Parallel(n_jobs=-1)]: Done  45 out of  45 | elapsed:  9.4min finished\n",
      "/Library/Frameworks/Python.framework/Versions/3.6/lib/python3.6/site-packages/sklearn/model_selection/_search.py:739: DataConversionWarning: A column-vector y was passed when a 1d array was expected. Please change the shape of y to (n_samples,), for example using ravel().\n",
      "  self.best_estimator_.fit(X, y, **fit_params)\n"
     ]
    },
    {
     "data": {
      "text/plain": [
       "GridSearchCV(cv=None, error_score='raise',\n",
       "       estimator=RandomForestRegressor(bootstrap=True, criterion='mse', max_depth=None,\n",
       "           max_features='auto', max_leaf_nodes=None,\n",
       "           min_impurity_decrease=0.0, min_impurity_split=None,\n",
       "           min_samples_leaf=1, min_samples_split=2,\n",
       "           min_weight_fraction_leaf=0.0, n_estimators=10, n_jobs=1,\n",
       "           oob_score=False, random_state=None, verbose=0, warm_start=False),\n",
       "       fit_params=None, iid=True, n_jobs=-1,\n",
       "       param_grid={'n_estimators': [300], 'min_samples_split': range(2, 5), 'max_depth': range(12, 7, -1)},\n",
       "       pre_dispatch='2*n_jobs', refit=True, return_train_score='warn',\n",
       "       scoring=None, verbose=5)"
      ]
     },
     "execution_count": 348,
     "metadata": {},
     "output_type": "execute_result"
    }
   ],
   "source": [
    "### Don't rerun unless data has changed\n",
    "\n",
    "search_rfr.fit(train_reg_X, train_reg_y)"
   ]
  },
  {
   "cell_type": "code",
   "execution_count": 349,
   "metadata": {
    "scrolled": true
   },
   "outputs": [
    {
     "data": {
      "text/plain": [
       "0.9187839041151536"
      ]
     },
     "execution_count": 349,
     "metadata": {},
     "output_type": "execute_result"
    }
   ],
   "source": [
    "search_rfr.best_score_"
   ]
  },
  {
   "cell_type": "code",
   "execution_count": 350,
   "metadata": {},
   "outputs": [
    {
     "data": {
      "text/plain": [
       "RandomForestRegressor(bootstrap=True, criterion='mse', max_depth=12,\n",
       "           max_features='auto', max_leaf_nodes=None,\n",
       "           min_impurity_decrease=0.0, min_impurity_split=None,\n",
       "           min_samples_leaf=1, min_samples_split=4,\n",
       "           min_weight_fraction_leaf=0.0, n_estimators=300, n_jobs=1,\n",
       "           oob_score=False, random_state=None, verbose=0, warm_start=False)"
      ]
     },
     "execution_count": 350,
     "metadata": {},
     "output_type": "execute_result"
    }
   ],
   "source": [
    "search_rfr.best_estimator_"
   ]
  },
  {
   "cell_type": "code",
   "execution_count": 351,
   "metadata": {
    "collapsed": true
   },
   "outputs": [],
   "source": [
    "rfr_best = search_rfr.best_estimator_"
   ]
  },
  {
   "cell_type": "code",
   "execution_count": 352,
   "metadata": {
    "scrolled": false
   },
   "outputs": [
    {
     "name": "stderr",
     "output_type": "stream",
     "text": [
      "/Library/Frameworks/Python.framework/Versions/3.6/lib/python3.6/site-packages/ipykernel_launcher.py:1: DataConversionWarning: A column-vector y was passed when a 1d array was expected. Please change the shape of y to (n_samples,), for example using ravel().\n",
      "  \"\"\"Entry point for launching an IPython kernel.\n"
     ]
    },
    {
     "data": {
      "text/plain": [
       "RandomForestRegressor(bootstrap=True, criterion='mse', max_depth=12,\n",
       "           max_features='auto', max_leaf_nodes=None,\n",
       "           min_impurity_decrease=0.0, min_impurity_split=None,\n",
       "           min_samples_leaf=1, min_samples_split=4,\n",
       "           min_weight_fraction_leaf=0.0, n_estimators=300, n_jobs=1,\n",
       "           oob_score=False, random_state=None, verbose=0, warm_start=False)"
      ]
     },
     "execution_count": 352,
     "metadata": {},
     "output_type": "execute_result"
    }
   ],
   "source": [
    "rfr_best.fit(train_reg_X, train_reg_y)"
   ]
  },
  {
   "cell_type": "code",
   "execution_count": 353,
   "metadata": {
    "scrolled": true
   },
   "outputs": [
    {
     "name": "stdout",
     "output_type": "stream",
     "text": [
      "Train R-squared: 0.957\n",
      "Train Adjusted R-squared: 0.957\n",
      "Val R-squared: 0.921\n",
      "Val Adjusted R-squared: 0.918\n",
      "Test R-squared: 0.914\n",
      "Test Adjusted R-squared: 0.911\n"
     ]
    }
   ],
   "source": [
    "print('Train R-squared: {:.3}'.format(rfr_best.score(train_reg_X, train_reg_y)))\n",
    "print('Train Adjusted R-squared: {:.3}'.format(get_adjusted_r2(rfr_best, train_reg_X, train_reg_y)))\n",
    "\n",
    "print('Val R-squared: {:.3}'.format(rfr_best.score(val_reg_X, val_reg_y)))\n",
    "print('Val Adjusted R-squared: {:.3}'.format(get_adjusted_r2(rfr_best, val_reg_X, val_reg_y)))\n",
    "\n",
    "print('Test R-squared: {:.3}'.format(rfr_best.score(test_reg_X, test_reg_y)))\n",
    "print('Test Adjusted R-squared: {:.3}'.format(get_adjusted_r2(rfr_best, test_reg_X, test_reg_y)))"
   ]
  },
  {
   "cell_type": "code",
   "execution_count": 354,
   "metadata": {},
   "outputs": [
    {
     "name": "stdout",
     "output_type": "stream",
     "text": [
      "Train MAE: 469876.8786299046\n",
      "Val MAE: 466338.9375260093\n"
     ]
    }
   ],
   "source": [
    "print('Train MAE: {}'.format(mean_absolute_error(y_true = train_reg_y, y_pred = [max(np.exp(i),0) for i in rfr_best.predict(train_reg_X)])))\n",
    "print('Val MAE: {}'.format(mean_absolute_error(y_true = val_reg_y, y_pred = [max(np.exp(i),0) for i in rfr_best.predict(val_reg_X)])))\n"
   ]
  },
  {
   "cell_type": "code",
   "execution_count": 355,
   "metadata": {},
   "outputs": [
    {
     "name": "stdout",
     "output_type": "stream",
     "text": [
      "Train MAPE: 8.394724428768953\n",
      "Val MAPE: 10.336956203855054\n",
      "Test MAPE: 10.675905818495062\n"
     ]
    }
   ],
   "source": [
    "print('Train MAPE: {}'.format(get_mape(y_true = salePriceReg_train['NormalizedSalePrice'], y_pred = [max(np.exp(i),0) for i in search_rfr.predict(train_reg_X)])))\n",
    "print('Val MAPE: {}'.format(get_mape(y_true = salePriceReg_val['NormalizedSalePrice'], y_pred = [max(np.exp(i),0) for i in search_rfr.predict(val_reg_X)])))\n",
    "print('Test MAPE: {}'.format(get_mape(y_true = salePriceReg_test['NormalizedSalePrice'], y_pred = [max(np.exp(i),0) for i in search_rfr.predict(test_reg_X)])))\n"
   ]
  },
  {
   "cell_type": "markdown",
   "metadata": {},
   "source": [
    "## Multilayer Perceptron"
   ]
  },
  {
   "cell_type": "code",
   "execution_count": null,
   "metadata": {
    "collapsed": true
   },
   "outputs": [],
   "source": [
    "mlp = MLPRegressor()"
   ]
  },
  {
   "cell_type": "code",
   "execution_count": null,
   "metadata": {
    "collapsed": true
   },
   "outputs": [],
   "source": [
    "parameters_mlp = {'alpha':[1e-5,1e-4,1e-3,1e-2,1e-1, 1, 10],\n",
    "                  'hidden_layer_sizes': [(10,), (20,), (30,), (40,), (50,)]\n",
    "                 }"
   ]
  },
  {
   "cell_type": "code",
   "execution_count": null,
   "metadata": {
    "collapsed": true
   },
   "outputs": [],
   "source": [
    "search_mlp = GridSearchCV(mlp, parameters_mlp, verbose=5, n_jobs=-1)"
   ]
  },
  {
   "cell_type": "code",
   "execution_count": null,
   "metadata": {
    "collapsed": true
   },
   "outputs": [],
   "source": [
    "### Don't rerun if data hasn't changed\n",
    "\n",
    "search_mlp.fit(train_reg_X, train_reg_y)"
   ]
  },
  {
   "cell_type": "code",
   "execution_count": null,
   "metadata": {
    "collapsed": true,
    "scrolled": true
   },
   "outputs": [],
   "source": [
    "search_mlp.best_score_"
   ]
  },
  {
   "cell_type": "code",
   "execution_count": null,
   "metadata": {
    "collapsed": true,
    "scrolled": true
   },
   "outputs": [],
   "source": [
    "search_mlp.best_estimator_"
   ]
  },
  {
   "cell_type": "code",
   "execution_count": null,
   "metadata": {
    "collapsed": true
   },
   "outputs": [],
   "source": [
    "mlp_best = search_mlp.best_estimator_"
   ]
  },
  {
   "cell_type": "code",
   "execution_count": null,
   "metadata": {
    "collapsed": true,
    "scrolled": false
   },
   "outputs": [],
   "source": [
    "mlp_best.fit(train_reg_X, train_reg_y)"
   ]
  },
  {
   "cell_type": "code",
   "execution_count": null,
   "metadata": {
    "collapsed": true
   },
   "outputs": [],
   "source": [
    "print('Train R-squared: {:.3}'.format(mlp_best.score(train_reg_X, train_reg_y)))\n",
    "print('Train Adjusted R-squared: {:.3}'.format(get_adjusted_r2(mlp_best, train_reg_X, train_reg_y)))\n",
    "\n",
    "print('Val R-squared: {:.3}'.format(mlp_best.score(val_reg_X, val_reg_y)))\n",
    "print('Val Adjusted R-squared: {:.3}'.format(get_adjusted_r2(mlp_best, val_reg_X, val_reg_y)))\n",
    "\n",
    "print('Test R-squared: {:.3}'.format(mlp_best.score(test_reg_X, test_reg_y)))\n",
    "print('Test Adjusted R-squared: {:.3}'.format(get_adjusted_r2(mlp_best, test_reg_X, test_reg_y)))"
   ]
  },
  {
   "cell_type": "code",
   "execution_count": null,
   "metadata": {
    "collapsed": true
   },
   "outputs": [],
   "source": [
    "print('Train MAE: {}'.format(mean_absolute_error(y_true = train_reg_y, y_pred = [max(np.exp(i),0) for i in mlp_best.predict(train_reg_X)])))\n",
    "print('Val MAE: {}'.format(mean_absolute_error(y_true = val_reg_y, y_pred = [max(np.exp(i),0) for i in mlp_best.predict(val_reg_X)])))\n"
   ]
  },
  {
   "cell_type": "code",
   "execution_count": 32,
   "metadata": {
    "scrolled": true
   },
   "outputs": [
    {
     "name": "stdout",
     "output_type": "stream",
     "text": [
      "Train MAPE: 13.717537297879561\n",
      "Val MAPE: 13.602849139796316\n",
      "Test MAPE: 13.35639753734604\n"
     ]
    }
   ],
   "source": [
    "print('Train MAPE: {}'.format(get_mape(y_true = salePriceReg_train['NormalizedSalePrice'], y_pred = [max(np.exp(i),0) for i in mlp.predict(train_reg_X)])))\n",
    "print('Val MAPE: {}'.format(get_mape(y_true = salePriceReg_val['NormalizedSalePrice'], y_pred = [max(np.exp(i),0) for i in mlp.predict(val_reg_X)])))\n",
    "print('Test MAPE: {}'.format(get_mape(y_true = salePriceReg_test['NormalizedSalePrice'], y_pred = [max(np.exp(i),0) for i in mlp.predict(test_reg_X)])))\n"
   ]
  },
  {
   "cell_type": "markdown",
   "metadata": {},
   "source": [
    "## XG Boost"
   ]
  },
  {
   "cell_type": "code",
   "execution_count": 121,
   "metadata": {
    "collapsed": true
   },
   "outputs": [],
   "source": [
    "xg_reg  = xgb.XGBRegressor(objective='reg:linear', \n",
    "                           colsample_bytree = 0.7,\n",
    "                           learning_rate = 0.1,\n",
    "                           max_depth = 8,\n",
    "                           alpha = 1,\n",
    "                           eta = 0.5,\n",
    "                           n_estimators = 200\n",
    "                          )"
   ]
  },
  {
   "cell_type": "code",
   "execution_count": 122,
   "metadata": {
    "scrolled": true
   },
   "outputs": [
    {
     "data": {
      "text/plain": [
       "XGBRegressor(alpha=1, base_score=0.5, booster='gbtree', colsample_bylevel=1,\n",
       "       colsample_bytree=0.7, eta=0.5, gamma=0, importance_type='gain',\n",
       "       learning_rate=0.1, max_delta_step=0, max_depth=8,\n",
       "       min_child_weight=1, missing=None, n_estimators=200, n_jobs=1,\n",
       "       nthread=None, objective='reg:linear', random_state=0, reg_alpha=0,\n",
       "       reg_lambda=1, scale_pos_weight=1, seed=None, silent=True,\n",
       "       subsample=1)"
      ]
     },
     "execution_count": 122,
     "metadata": {},
     "output_type": "execute_result"
    }
   ],
   "source": [
    "xg_reg.fit(train_reg_X, train_reg_y)"
   ]
  },
  {
   "cell_type": "code",
   "execution_count": 123,
   "metadata": {},
   "outputs": [
    {
     "name": "stdout",
     "output_type": "stream",
     "text": [
      "Train R-squared: 0.979\n",
      "Train Adjusted R-squared: 0.979\n",
      "Val R-squared: 0.944\n",
      "Val Adjusted R-squared: 0.942\n",
      "Test R-squared: 0.942\n",
      "Test Adjusted R-squared: 0.94\n"
     ]
    }
   ],
   "source": [
    "print('Train R-squared: {:.3}'.format(xg_reg.score(train_reg_X, train_reg_y)))\n",
    "print('Train Adjusted R-squared: {:.3}'.format(get_adjusted_r2(xg_reg, train_reg_X, train_reg_y)))\n",
    "\n",
    "print('Val R-squared: {:.3}'.format(xg_reg.score(val_reg_X, val_reg_y)))\n",
    "print('Val Adjusted R-squared: {:.3}'.format(get_adjusted_r2(xg_reg, val_reg_X, val_reg_y)))\n",
    "\n",
    "print('Test R-squared: {:.3}'.format(xg_reg.score(test_reg_X, test_reg_y)))\n",
    "print('Test Adjusted R-squared: {:.3}'.format(get_adjusted_r2(xg_reg, test_reg_X, test_reg_y)))"
   ]
  },
  {
   "cell_type": "code",
   "execution_count": 183,
   "metadata": {},
   "outputs": [
    {
     "name": "stdout",
     "output_type": "stream",
     "text": [
      "Train MAE: 0.05797141243393264\n",
      "Val MAE: 0.08464572006699117\n"
     ]
    }
   ],
   "source": [
    "print('Train MAE: {}'.format(mean_absolute_error(y_true = train_reg_y, y_pred = [max(i,0) for i in xg_reg.predict(train_reg_X)])))\n",
    "print('Val MAE: {}'.format(mean_absolute_error(y_true = val_reg_y, y_pred = [max(i,0) for i in xg_reg.predict(val_reg_X)])))\n"
   ]
  },
  {
   "cell_type": "code",
   "execution_count": 124,
   "metadata": {},
   "outputs": [
    {
     "name": "stdout",
     "output_type": "stream",
     "text": [
      "Train MAE: 29620.22065758941\n",
      "Val MAE: 46451.69628890254\n"
     ]
    }
   ],
   "source": [
    "print('Train MAE: {}'.format(mean_absolute_error(y_true = salePriceReg_train['NormalizedSalePrice'], y_pred = [max(np.exp(i),0) for i in xg_reg.predict(train_reg_X)])))\n",
    "print('Val MAE: {}'.format(mean_absolute_error(y_true = salePriceReg_val['NormalizedSalePrice'], y_pred = [max(np.exp(i),0) for i in xg_reg.predict(val_reg_X)])))\n"
   ]
  },
  {
   "cell_type": "code",
   "execution_count": 125,
   "metadata": {
    "scrolled": true
   },
   "outputs": [
    {
     "name": "stdout",
     "output_type": "stream",
     "text": [
      "Train MAPE: 5.791890817894749\n",
      "Val MAPE: 8.532720110195765\n",
      "Test MAPE: 8.747668233562536\n"
     ]
    }
   ],
   "source": [
    "print('Train MAPE: {}'.format(get_mape(y_true = salePriceReg_train['NormalizedSalePrice'], y_pred = [max(np.exp(i),0) for i in xg_reg.predict(train_reg_X)])))\n",
    "print('Val MAPE: {}'.format(get_mape(y_true = salePriceReg_val['NormalizedSalePrice'], y_pred = [max(np.exp(i),0) for i in xg_reg.predict(val_reg_X)])))\n",
    "print('Test MAPE: {}'.format(get_mape(y_true = salePriceReg_test['NormalizedSalePrice'], y_pred = [max(np.exp(i),0) for i in xg_reg.predict(test_reg_X)])))\n"
   ]
  },
  {
   "cell_type": "code",
   "execution_count": 126,
   "metadata": {},
   "outputs": [
    {
     "name": "stdout",
     "output_type": "stream",
     "text": [
      "Train MdAPE: 4.378048245614035\n",
      "Val MdAPE: 5.778059895833334\n",
      "Test MdAPE: 5.93788868674014\n"
     ]
    }
   ],
   "source": [
    "print('Train MdAPE: {}'.format(get_mdape(y_true = salePriceReg_train['NormalizedSalePrice'], y_pred = [max(np.exp(i),0) for i in xg_reg.predict(train_reg_X)])))\n",
    "print('Val MdAPE: {}'.format(get_mdape(y_true = salePriceReg_val['NormalizedSalePrice'], y_pred = [max(np.exp(i),0) for i in xg_reg.predict(val_reg_X)])))\n",
    "print('Test MdAPE: {}'.format(get_mdape(y_true = salePriceReg_test['NormalizedSalePrice'], y_pred = [max(np.exp(i),0) for i in xg_reg.predict(test_reg_X)])))\n"
   ]
  },
  {
   "cell_type": "code",
   "execution_count": 127,
   "metadata": {},
   "outputs": [
    {
     "name": "stdout",
     "output_type": "stream",
     "text": [
      "Percent of estimates within 10% of Sale Price:  0.7\n",
      "Percent of esimtates within 5% of Sale Price:  0.44\n"
     ]
    }
   ],
   "source": [
    "y_pred = [max(np.exp(i),0) for i in xg_reg.predict(test_reg_X)]\n",
    "y_true = salePriceReg_test['NormalizedSalePrice']\n",
    "\n",
    "abs_error = np.abs(y_pred - y_true)/y_true\n",
    "print('Percent of estimates within 10% of Sale Price: ', round(len(abs_error[abs_error <= .1])/len(y_true), 2))\n",
    "print('Percent of esimtates within 5% of Sale Price: ', round(len(abs_error[abs_error <= .05])/len(y_true), 2))"
   ]
  },
  {
   "cell_type": "markdown",
   "metadata": {},
   "source": [
    "## Expected payout of best Regression model"
   ]
  },
  {
   "cell_type": "code",
   "execution_count": 128,
   "metadata": {
    "collapsed": true,
    "scrolled": true
   },
   "outputs": [],
   "source": [
    "model_reg = xg_reg"
   ]
  },
  {
   "cell_type": "code",
   "execution_count": 129,
   "metadata": {
    "collapsed": true
   },
   "outputs": [],
   "source": [
    "preds = model_reg.predict(test_reg_X)"
   ]
  },
  {
   "cell_type": "code",
   "execution_count": 130,
   "metadata": {
    "collapsed": true
   },
   "outputs": [],
   "source": [
    "profits = {'byList': 0,\n",
    "           'byModel': 0\n",
    "          }\n",
    "count_selected = 0\n",
    "\n",
    "for i in range(len(preds)):\n",
    "    model_price = np.exp(preds[i])\n",
    "    actual_price = salePriceReg_test['NormalizedSalePrice'][i]\n",
    "    list_price = listPriceReg_test['NormalizedListPrice'][i]\n",
    "    \n",
    "    if model_price > list_price:\n",
    "        profits['byModel'] += actual_price - list_price\n",
    "        count_selected += 1\n",
    "    \n",
    "    profits['byList'] += actual_price - list_price\n",
    "    "
   ]
  },
  {
   "cell_type": "code",
   "execution_count": 131,
   "metadata": {
    "scrolled": true
   },
   "outputs": [
    {
     "name": "stdout",
     "output_type": "stream",
     "text": [
      "Following the model resulted in net -5054.180272108843 per property\n"
     ]
    }
   ],
   "source": [
    "print(\"Following the model resulted in net {} per property\".format(profits['byModel']/count_selected))"
   ]
  },
  {
   "cell_type": "code",
   "execution_count": 132,
   "metadata": {
    "scrolled": true
   },
   "outputs": [
    {
     "name": "stdout",
     "output_type": "stream",
     "text": [
      "Following the list resulted in net -11796.985872235873 per property\n"
     ]
    }
   ],
   "source": [
    "print(\"Following the list resulted in net {} per property\".format(profits['byList']/len(preds)))"
   ]
  },
  {
   "cell_type": "markdown",
   "metadata": {},
   "source": [
    "# ----------------------------------------------------------"
   ]
  },
  {
   "cell_type": "markdown",
   "metadata": {},
   "source": [
    "# Classification Models"
   ]
  },
  {
   "cell_type": "markdown",
   "metadata": {},
   "source": [
    "Reframe prediction to classifying whether a property is a \"good\" investment.\n",
    "\n",
    "\"Good\" is defined as a property who's sale price is more than its list price, and will be represented by a binary 1 or 0 feature."
   ]
  },
  {
   "cell_type": "code",
   "execution_count": null,
   "metadata": {
    "collapsed": true
   },
   "outputs": [],
   "source": [
    "df_class = df.copy()"
   ]
  },
  {
   "cell_type": "code",
   "execution_count": null,
   "metadata": {
    "collapsed": true
   },
   "outputs": [],
   "source": [
    "df_class['GoodInvestment'] = (df_class['NormalizedSalePrice']-df_class['NormalizedListPrice'])/df_class['NormalizedListPrice']\n",
    "df_class['GoodInvestment'] = pd.Series([1 if x > 0 else 0 for x in df_class['GoodInvestment']]).astype(\"category\")\n"
   ]
  },
  {
   "cell_type": "code",
   "execution_count": null,
   "metadata": {
    "collapsed": true
   },
   "outputs": [],
   "source": [
    "target = ['GoodInvestment']\n",
    "numeric_cols = ['BuildingAreaSqFt', 'LotSizeSquareFeet', 'NoOfStories', 'TotalBedrooms', \n",
    "                'NormalizedBathCount', 'LandAssessedValue', 'ImprovementAssessedValue', 'TotalAssessedValue', \n",
    "                'GarageNoOfCars', 'PropertyAddressLatitude', 'PropertyAddressLongitude']\n",
    "categorical_cols = ['PropertyZip', 'YearBuilt', 'ListYearMonth']"
   ]
  },
  {
   "cell_type": "code",
   "execution_count": null,
   "metadata": {
    "collapsed": true
   },
   "outputs": [],
   "source": [
    "df_noNA = df_class[target + numeric_cols + categorical_cols].dropna()"
   ]
  },
  {
   "cell_type": "code",
   "execution_count": null,
   "metadata": {
    "collapsed": true
   },
   "outputs": [],
   "source": [
    "# Create numeric and categorical columns\n",
    "df_num = df_noNA[numeric_cols]\n",
    "df_cat = df_noNA[categorical_cols]\n",
    "df_target  = df_noNA['GoodInvestment']\n",
    "\n",
    "# Create dummy variables for categorical columns\n",
    "for column in categorical_cols:\n",
    "    df_cat[column] = df_cat[column].astype(\"category\")\n",
    "df_cat = pd.get_dummies(df_cat)\n",
    "\n",
    "df_class = pd.concat([df_num, df_cat, df_target], axis=1)"
   ]
  },
  {
   "cell_type": "code",
   "execution_count": null,
   "metadata": {
    "collapsed": true
   },
   "outputs": [],
   "source": [
    "# Train/test split\n",
    "train_class, test_class = train_test_split(df_class, random_state=2)\n",
    "train_class, val_class = train_test_split(train_class, random_state=2)"
   ]
  },
  {
   "cell_type": "code",
   "execution_count": null,
   "metadata": {
    "collapsed": true
   },
   "outputs": [],
   "source": [
    "column_means_std = {}\n",
    "for numeric_column in numeric_cols:\n",
    "    means = train_class[numeric_column].mean()\n",
    "    std = train_class[numeric_column].std()\n",
    "    column_means_std[numeric_column] = [means, std]\n"
   ]
  },
  {
   "cell_type": "code",
   "execution_count": null,
   "metadata": {
    "collapsed": true
   },
   "outputs": [],
   "source": [
    "def get_z_scores(df, columns):\n",
    "    for column in columns:\n",
    "        df[column] = (df[column] - column_means_std[column][0])/column_means_std[column][1]"
   ]
  },
  {
   "cell_type": "code",
   "execution_count": null,
   "metadata": {
    "collapsed": true
   },
   "outputs": [],
   "source": [
    "get_z_scores(train_class, numeric_cols)\n",
    "get_z_scores(val_class, numeric_cols)\n",
    "get_z_scores(test_class, numeric_cols)"
   ]
  },
  {
   "cell_type": "code",
   "execution_count": null,
   "metadata": {
    "collapsed": true
   },
   "outputs": [],
   "source": [
    "train_class_X = train_class.drop(columns = ['GoodInvestment']).reset_index().drop(columns = ['index'])\n",
    "train_class_y = train_class['GoodInvestment'].reset_index().drop(columns = ['index'])\n",
    "val_class_X = val_class.drop(columns = ['GoodInvestment']).reset_index().drop(columns = ['index'])\n",
    "val_class_y = val_class['GoodInvestment'].reset_index().drop(columns = ['index'])\n",
    "test_class_X = test_class.drop(columns = ['GoodInvestment']).reset_index().drop(columns = ['index'])\n",
    "test_class_y = test_class['GoodInvestment'].reset_index().drop(columns = ['index'])"
   ]
  },
  {
   "cell_type": "markdown",
   "metadata": {},
   "source": [
    "### Logistic Regression"
   ]
  },
  {
   "cell_type": "code",
   "execution_count": null,
   "metadata": {
    "collapsed": true
   },
   "outputs": [],
   "source": [
    "LogR = LogisticRegression(class_weight=\"balanced\")"
   ]
  },
  {
   "cell_type": "code",
   "execution_count": null,
   "metadata": {
    "collapsed": true
   },
   "outputs": [],
   "source": [
    "parameters_logr = {'C':[0.001,0.01,0.1,1.0,10]}"
   ]
  },
  {
   "cell_type": "code",
   "execution_count": null,
   "metadata": {
    "collapsed": true
   },
   "outputs": [],
   "source": [
    "search_logr = GridSearchCV(LogR, parameters_logr, verbose=5)"
   ]
  },
  {
   "cell_type": "code",
   "execution_count": null,
   "metadata": {
    "collapsed": true,
    "scrolled": true
   },
   "outputs": [],
   "source": [
    "search_logr.fit(train_class_X, train_class_y)"
   ]
  },
  {
   "cell_type": "code",
   "execution_count": null,
   "metadata": {
    "collapsed": true,
    "scrolled": false
   },
   "outputs": [],
   "source": [
    "search_logr.best_score_"
   ]
  },
  {
   "cell_type": "code",
   "execution_count": null,
   "metadata": {
    "collapsed": true
   },
   "outputs": [],
   "source": [
    "search_logr.best_estimator_"
   ]
  },
  {
   "cell_type": "code",
   "execution_count": null,
   "metadata": {
    "collapsed": true
   },
   "outputs": [],
   "source": [
    "logr_best = search_logr.best_estimator_"
   ]
  },
  {
   "cell_type": "code",
   "execution_count": null,
   "metadata": {
    "collapsed": true
   },
   "outputs": [],
   "source": [
    "logr_best.fit(train_class_X, train_class_y)"
   ]
  },
  {
   "cell_type": "code",
   "execution_count": null,
   "metadata": {
    "collapsed": true
   },
   "outputs": [],
   "source": [
    "print(classification_report(y_true = train_class_y, y_pred = logr_best.predict(train_class_X)))"
   ]
  },
  {
   "cell_type": "code",
   "execution_count": null,
   "metadata": {
    "collapsed": true,
    "scrolled": true
   },
   "outputs": [],
   "source": [
    "print(classification_report(y_true = val_class_y, y_pred = logr_best.predict(val_class_X)))"
   ]
  },
  {
   "cell_type": "markdown",
   "metadata": {},
   "source": [
    "### Random Forest"
   ]
  },
  {
   "cell_type": "code",
   "execution_count": null,
   "metadata": {
    "collapsed": true
   },
   "outputs": [],
   "source": [
    "rfc = RandomForestClassifier(class_weight='balanced')"
   ]
  },
  {
   "cell_type": "code",
   "execution_count": null,
   "metadata": {
    "collapsed": true
   },
   "outputs": [],
   "source": [
    "parameters_rfc = {'n_estimators':range(200,400,50),\n",
    "             'min_samples_split':range(2,10),\n",
    "              'max_depth':range(15,2,-1)\n",
    "             }"
   ]
  },
  {
   "cell_type": "code",
   "execution_count": null,
   "metadata": {
    "collapsed": true
   },
   "outputs": [],
   "source": [
    "search_rfc = GridSearchCV(rfc, parameters_rfc, verbose=5, n_jobs=-1)"
   ]
  },
  {
   "cell_type": "code",
   "execution_count": null,
   "metadata": {
    "collapsed": true,
    "scrolled": true
   },
   "outputs": [],
   "source": [
    "search_rfc.fit(train_class_X, train_class_y)"
   ]
  },
  {
   "cell_type": "code",
   "execution_count": null,
   "metadata": {
    "collapsed": true,
    "scrolled": false
   },
   "outputs": [],
   "source": [
    "search_rfc.best_score_"
   ]
  },
  {
   "cell_type": "code",
   "execution_count": null,
   "metadata": {
    "collapsed": true
   },
   "outputs": [],
   "source": [
    "search_rfc.best_estimator_"
   ]
  },
  {
   "cell_type": "code",
   "execution_count": null,
   "metadata": {
    "collapsed": true
   },
   "outputs": [],
   "source": [
    "rfc_best = search_rfc.best_estimator_"
   ]
  },
  {
   "cell_type": "code",
   "execution_count": null,
   "metadata": {
    "collapsed": true,
    "scrolled": true
   },
   "outputs": [],
   "source": [
    "rfc_best.fit(train_class_X, train_class_y)"
   ]
  },
  {
   "cell_type": "code",
   "execution_count": null,
   "metadata": {
    "collapsed": true,
    "scrolled": true
   },
   "outputs": [],
   "source": [
    "print(classification_report(y_true = train_class_y, y_pred = RFC.predict(train_class_X)))"
   ]
  },
  {
   "cell_type": "code",
   "execution_count": null,
   "metadata": {
    "collapsed": true,
    "scrolled": true
   },
   "outputs": [],
   "source": [
    "print(classification_report(y_true = val_class_y, y_pred = RFC.predict(val_class_X)))"
   ]
  },
  {
   "cell_type": "markdown",
   "metadata": {},
   "source": [
    "## Expected payout of best Classification model"
   ]
  },
  {
   "cell_type": "code",
   "execution_count": null,
   "metadata": {
    "collapsed": true
   },
   "outputs": [],
   "source": [
    "model_class = rfc_best"
   ]
  },
  {
   "cell_type": "code",
   "execution_count": null,
   "metadata": {
    "collapsed": true
   },
   "outputs": [],
   "source": [
    "preds = rfc_best.predict(test_reg_X)"
   ]
  },
  {
   "cell_type": "code",
   "execution_count": null,
   "metadata": {
    "collapsed": true
   },
   "outputs": [],
   "source": [
    "profits = {'byList': 0,\n",
    "           'byModel': 0\n",
    "          }\n",
    "count_selected = 0\n",
    "\n",
    "for i in range(len(preds)):\n",
    "    #model_price = preds[i]\n",
    "    actual_price = test_reg_y['NormalizedSalePrice'][i]\n",
    "    list_price = listPriceReg_test['NormalizedListPrice'][i]\n",
    "    \n",
    "    if preds[i] == 1:\n",
    "        profits['byModel'] += actual_price - sale_price\n",
    "        count_selected += 1\n",
    "    \n",
    "    profits['byList'] += actual_price - list_price\n",
    "    "
   ]
  },
  {
   "cell_type": "code",
   "execution_count": null,
   "metadata": {
    "collapsed": true,
    "scrolled": true
   },
   "outputs": [],
   "source": [
    "print(\"Following the model resulted in net {} per property\".format(profits['byModel']/count_selected))"
   ]
  },
  {
   "cell_type": "code",
   "execution_count": null,
   "metadata": {
    "collapsed": true,
    "scrolled": false
   },
   "outputs": [],
   "source": [
    "print(\"Following the list resulted in net {} per property\".format(profits['byList']/len(preds)))"
   ]
  },
  {
   "cell_type": "markdown",
   "metadata": {},
   "source": [
    "# Time to Sale"
   ]
  },
  {
   "cell_type": "code",
   "execution_count": 63,
   "metadata": {
    "collapsed": true
   },
   "outputs": [],
   "source": [
    "df_time = df.copy()"
   ]
  },
  {
   "cell_type": "code",
   "execution_count": 64,
   "metadata": {
    "collapsed": true
   },
   "outputs": [],
   "source": [
    "# Exclude 'NormalizedListPrice' because it may be too correlated with target 'NormalizedSalePrice'\n",
    "target = ['LogDaysToSale']\n",
    "numeric_cols = ['BuildingAreaSqFt', 'LotSizeSquareFeet', 'NoOfStories', 'TotalBedrooms', \n",
    "                'NormalizedBathCount', 'LandAssessedValue', 'ImprovementAssessedValue', 'TotalAssessedValue', \n",
    "                'GarageNoOfCars', 'PropertyAddressLatitude', 'PropertyAddressLongitude',\n",
    "               'NormalizedListPrice', 'built_prct']\n",
    "categorical_cols = ['PropertyZip', 'YearBuilt', 'ListYearMonth']"
   ]
  },
  {
   "cell_type": "code",
   "execution_count": 65,
   "metadata": {
    "collapsed": true
   },
   "outputs": [],
   "source": [
    "df_noNA = df_time[numeric_cols + categorical_cols + ['ListDate', 'SoldDate']].dropna()"
   ]
  },
  {
   "cell_type": "code",
   "execution_count": 66,
   "metadata": {
    "collapsed": true
   },
   "outputs": [],
   "source": [
    "# Create DaysToSale feature\n",
    "import datetime\n",
    "    \n",
    "listDate = [datetime.datetime.strptime(str(i), \"%Y-%m-%d\").date() for i in df_noNA.ListDate]\n",
    "soldDate = [datetime.datetime.strptime(str(i), \"%Y-%m-%d\").date() for i in df_noNA.SoldDate]\n",
    "timeToSale = []\n",
    "\n",
    "for i in range(len(listDate)):\n",
    "    timeToSale.append(max(1,(soldDate[i]-listDate[i]).days))\n",
    "\n",
    "df_noNA['DaysToSale'] = timeToSale\n",
    "df_noNA['LogDaysToSale'] = np.log(timeToSale)\n",
    "df_noNA['ListYear'] = [date.year for date in listDate]\n",
    "df_noNA['ListMonth'] = [date.month for date in listDate]\n",
    "df_noNA['ListDay'] = [date.day for date in listDate]\n",
    "\n",
    "categorical_cols += ['ListYear','ListMonth','ListDay']"
   ]
  },
  {
   "cell_type": "code",
   "execution_count": 67,
   "metadata": {},
   "outputs": [
    {
     "name": "stderr",
     "output_type": "stream",
     "text": [
      "/Library/Frameworks/Python.framework/Versions/3.6/lib/python3.6/site-packages/ipykernel_launcher.py:8: SettingWithCopyWarning: \n",
      "A value is trying to be set on a copy of a slice from a DataFrame.\n",
      "Try using .loc[row_indexer,col_indexer] = value instead\n",
      "\n",
      "See the caveats in the documentation: http://pandas.pydata.org/pandas-docs/stable/indexing.html#indexing-view-versus-copy\n",
      "  \n"
     ]
    }
   ],
   "source": [
    "# Create numeric and categorical columns\n",
    "df_num = df_noNA[numeric_cols]\n",
    "df_cat = df_noNA[categorical_cols]\n",
    "df_target  = df_noNA['LogDaysToSale']\n",
    "\n",
    "# Create dummy variables for categorical columns\n",
    "for column in categorical_cols:\n",
    "    df_cat[column] = df_cat[column].astype(\"category\")\n",
    "df_cat = pd.get_dummies(df_cat)\n",
    "\n",
    "df_time = pd.concat([df_num, df_cat, df_target, df_noNA['DaysToSale']], axis=1)"
   ]
  },
  {
   "cell_type": "code",
   "execution_count": 68,
   "metadata": {
    "collapsed": true
   },
   "outputs": [],
   "source": [
    "# Train/test split\n",
    "train_time, test_time = train_test_split(df_time, random_state=2)\n",
    "train_time, val_time = train_test_split(train_time, random_state=2)"
   ]
  },
  {
   "cell_type": "code",
   "execution_count": 69,
   "metadata": {
    "collapsed": true
   },
   "outputs": [],
   "source": [
    "column_means_std = {}\n",
    "for numeric_column in numeric_cols:\n",
    "    means = train_time[numeric_column].mean()\n",
    "    std = train_time[numeric_column].std()\n",
    "    column_means_std[numeric_column] = [means, std]\n"
   ]
  },
  {
   "cell_type": "code",
   "execution_count": 70,
   "metadata": {
    "collapsed": true
   },
   "outputs": [],
   "source": [
    "def get_z_scores(df, columns):\n",
    "    for column in columns:\n",
    "        df[column] = (df[column] - column_means_std[column][0])/column_means_std[column][1]"
   ]
  },
  {
   "cell_type": "code",
   "execution_count": 71,
   "metadata": {},
   "outputs": [
    {
     "name": "stderr",
     "output_type": "stream",
     "text": [
      "/Library/Frameworks/Python.framework/Versions/3.6/lib/python3.6/site-packages/ipykernel_launcher.py:3: SettingWithCopyWarning: \n",
      "A value is trying to be set on a copy of a slice from a DataFrame.\n",
      "Try using .loc[row_indexer,col_indexer] = value instead\n",
      "\n",
      "See the caveats in the documentation: http://pandas.pydata.org/pandas-docs/stable/indexing.html#indexing-view-versus-copy\n",
      "  This is separate from the ipykernel package so we can avoid doing imports until\n"
     ]
    }
   ],
   "source": [
    "get_z_scores(train_time, numeric_cols)\n",
    "get_z_scores(val_time, numeric_cols)\n",
    "get_z_scores(test_time, numeric_cols)"
   ]
  },
  {
   "cell_type": "code",
   "execution_count": 72,
   "metadata": {
    "collapsed": true
   },
   "outputs": [],
   "source": [
    "daysToSale_train = train_time.pop('DaysToSale').reset_index().drop(columns = ['index'])\n",
    "daysToSale_val = val_time.pop('DaysToSale').reset_index().drop(columns = ['index'])\n",
    "daysToSale_test = test_time.pop('DaysToSale').reset_index().drop(columns = ['index'])"
   ]
  },
  {
   "cell_type": "code",
   "execution_count": 73,
   "metadata": {
    "collapsed": true
   },
   "outputs": [],
   "source": [
    "train_time_X = train_time.drop(columns = ['LogDaysToSale']).reset_index().drop(columns = ['index'])\n",
    "train_time_y = train_time['LogDaysToSale'].reset_index().drop(columns = ['index'])\n",
    "val_time_X = val_time.drop(columns = ['LogDaysToSale']).reset_index().drop(columns = ['index'])\n",
    "val_time_y = val_time['LogDaysToSale'].reset_index().drop(columns = ['index'])\n",
    "test_time_X = test_time.drop(columns = ['LogDaysToSale']).reset_index().drop(columns = ['index'])\n",
    "test_time_y = test_time['LogDaysToSale'].reset_index().drop(columns = ['index'])"
   ]
  },
  {
   "cell_type": "markdown",
   "metadata": {},
   "source": [
    "# Create Linear Models"
   ]
  },
  {
   "cell_type": "markdown",
   "metadata": {},
   "source": [
    "### Run Linear Regression on Train and Val set "
   ]
  },
  {
   "cell_type": "code",
   "execution_count": 156,
   "metadata": {},
   "outputs": [
    {
     "data": {
      "text/plain": [
       "LinearRegression(copy_X=True, fit_intercept=True, n_jobs=1, normalize=False)"
      ]
     },
     "execution_count": 156,
     "metadata": {},
     "output_type": "execute_result"
    }
   ],
   "source": [
    "LR_time = LinearRegression()\n",
    "LR_time.fit(train_time_X, train_time_y)"
   ]
  },
  {
   "cell_type": "code",
   "execution_count": 157,
   "metadata": {
    "scrolled": true
   },
   "outputs": [
    {
     "name": "stdout",
     "output_type": "stream",
     "text": [
      "Train R-squared: 0.35\n",
      "Test R-squared: 0.316\n"
     ]
    }
   ],
   "source": [
    "print('Train R-squared: {:.3}'.format(LR_time.score(train_time_X, train_time_y)))\n",
    "print('Test R-squared: {:.3}'.format(LR_time.score(val_time_X, val_time_y)))"
   ]
  },
  {
   "cell_type": "code",
   "execution_count": 158,
   "metadata": {},
   "outputs": [
    {
     "name": "stdout",
     "output_type": "stream",
     "text": [
      "Train RMSE: 59.6256530795791\n",
      "Test RMSE: 57.958517298239684\n"
     ]
    }
   ],
   "source": [
    "print('Train RMSE: {}'.format(np.sqrt(mean_squared_error(y_true = train_time_y, y_pred = [max(i,0) for i in LR_time.predict(train_time_X)]))))\n",
    "print('Test RMSE: {}'.format(np.sqrt(mean_squared_error(y_true = val_time_y, y_pred = [max(i,0) for i in LR_time.predict(val_time_X)]))))\n"
   ]
  },
  {
   "cell_type": "code",
   "execution_count": 160,
   "metadata": {},
   "outputs": [
    {
     "data": {
      "text/plain": [
       "RidgeCV(alphas=(0.1, 1.0, 10.0), cv=10, fit_intercept=True, gcv_mode=None,\n",
       "    normalize=False, scoring=None, store_cv_values=False)"
      ]
     },
     "execution_count": 160,
     "metadata": {},
     "output_type": "execute_result"
    }
   ],
   "source": [
    "time_RidgeCV = RidgeCV(cv=10)\n",
    "time_RidgeCV.fit(train_time_X, train_time_y)"
   ]
  },
  {
   "cell_type": "code",
   "execution_count": 161,
   "metadata": {
    "scrolled": true
   },
   "outputs": [
    {
     "name": "stdout",
     "output_type": "stream",
     "text": [
      "Train R-squared: 0.35\n",
      "Test R-squared: 0.3\n"
     ]
    }
   ],
   "source": [
    "print('Train R-squared: {:.3}'.format(time_RidgeCV.score(train_time_X, train_time_y)))\n",
    "print('Test R-squared: {:.3}'.format(time_RidgeCV.score(test_time_X, test_time_y)))"
   ]
  },
  {
   "cell_type": "code",
   "execution_count": 162,
   "metadata": {},
   "outputs": [
    {
     "name": "stdout",
     "output_type": "stream",
     "text": [
      "Train RMSE: 59.633206984780614\n",
      "Test RMSE: 64.09173753454053\n"
     ]
    }
   ],
   "source": [
    "print('Train RMSE: {}'.format(np.sqrt(mean_squared_error(y_true = train_time_y, y_pred = [max(i,0) for i in time_RidgeCV.predict(train_time_X)]))))\n",
    "print('Test RMSE: {}'.format(np.sqrt(mean_squared_error(y_true = test_time_y, y_pred = [max(i,0) for i in time_RidgeCV.predict(test_time_X)]))))\n"
   ]
  },
  {
   "cell_type": "code",
   "execution_count": 163,
   "metadata": {},
   "outputs": [
    {
     "name": "stderr",
     "output_type": "stream",
     "text": [
      "/Library/Frameworks/Python.framework/Versions/3.6/lib/python3.6/site-packages/sklearn/linear_model/coordinate_descent.py:1094: DataConversionWarning: A column-vector y was passed when a 1d array was expected. Please change the shape of y to (n_samples, ), for example using ravel().\n",
      "  y = column_or_1d(y, warn=True)\n"
     ]
    },
    {
     "data": {
      "text/plain": [
       "LassoCV(alphas=None, copy_X=True, cv=10, eps=0.001, fit_intercept=True,\n",
       "    max_iter=1000, n_alphas=100, n_jobs=1, normalize=False, positive=False,\n",
       "    precompute='auto', random_state=None, selection='cyclic', tol=0.0001,\n",
       "    verbose=False)"
      ]
     },
     "execution_count": 163,
     "metadata": {},
     "output_type": "execute_result"
    }
   ],
   "source": [
    "time_LassoCV = LassoCV(cv=10)\n",
    "time_LassoCV.fit(train_time_X, train_time_y)"
   ]
  },
  {
   "cell_type": "code",
   "execution_count": 164,
   "metadata": {
    "scrolled": true
   },
   "outputs": [
    {
     "name": "stdout",
     "output_type": "stream",
     "text": [
      "Train R-squared: 0.334\n",
      "Test R-squared: 0.309\n"
     ]
    }
   ],
   "source": [
    "print('Train R-squared: {:.3}'.format(time_LassoCV.score(train_time_X, train_time_y)))\n",
    "print('Test R-squared: {:.3}'.format(time_LassoCV.score(val_time_X, val_time_y)))"
   ]
  },
  {
   "cell_type": "code",
   "execution_count": 165,
   "metadata": {},
   "outputs": [
    {
     "name": "stdout",
     "output_type": "stream",
     "text": [
      "Train RMSE: 60.351779595280064\n",
      "Test RMSE: 58.23842313066136\n"
     ]
    }
   ],
   "source": [
    "print('Train RMSE: {}'.format(np.sqrt(mean_squared_error(y_true = train_time_y, y_pred = [max(i,0) for i in time_LassoCV.predict(train_time_X)]))))\n",
    "print('Test RMSE: {}'.format(np.sqrt(mean_squared_error(y_true = val_time_y, y_pred = [max(i,0) for i in time_LassoCV.predict(val_time_X)]))))\n"
   ]
  },
  {
   "cell_type": "markdown",
   "metadata": {},
   "source": [
    "## Random Forest"
   ]
  },
  {
   "cell_type": "code",
   "execution_count": 172,
   "metadata": {
    "collapsed": true
   },
   "outputs": [],
   "source": [
    "# Run only if data changes\n",
    "\n",
    "'''\n",
    "rfr_time = RandomForestRegressor()\n",
    "parameters_rfr_time = {'n_estimators':[300],\n",
    "             'min_samples_split':range(2,10),\n",
    "              'max_depth':range(15,5,-1)\n",
    "             }\n",
    "search_rfr_time = GridSearchCV(rfr_time, parameters_rfr_time, verbose=5, n_jobs=-1)\n",
    "search_rfr_time.fit(train_time_X, train_time_y)\n",
    "rfr_time_best = search_rfr_time.best_estimator_\n",
    "rfr_time_best.fit(train_time_X, train_time_y)\n",
    "\n",
    "'''"
   ]
  },
  {
   "cell_type": "code",
   "execution_count": 138,
   "metadata": {
    "collapsed": true
   },
   "outputs": [],
   "source": [
    "# Result of Grid Search\n",
    "rfr_time_best = RandomForestRegressor(bootstrap=True, criterion='mse', max_depth=15,\n",
    "           max_features='auto', max_leaf_nodes=None,\n",
    "           min_impurity_decrease=0.0, min_impurity_split=None,\n",
    "           min_samples_leaf=1, min_samples_split=4,\n",
    "           min_weight_fraction_leaf=0.0, n_estimators=300, n_jobs=1,\n",
    "           oob_score=False, random_state=None, verbose=0, warm_start=False)"
   ]
  },
  {
   "cell_type": "code",
   "execution_count": 139,
   "metadata": {},
   "outputs": [
    {
     "name": "stderr",
     "output_type": "stream",
     "text": [
      "/Library/Frameworks/Python.framework/Versions/3.6/lib/python3.6/site-packages/ipykernel_launcher.py:1: DataConversionWarning: A column-vector y was passed when a 1d array was expected. Please change the shape of y to (n_samples,), for example using ravel().\n",
      "  \"\"\"Entry point for launching an IPython kernel.\n"
     ]
    },
    {
     "data": {
      "text/plain": [
       "RandomForestRegressor(bootstrap=True, criterion='mse', max_depth=15,\n",
       "           max_features='auto', max_leaf_nodes=None,\n",
       "           min_impurity_decrease=0.0, min_impurity_split=None,\n",
       "           min_samples_leaf=1, min_samples_split=4,\n",
       "           min_weight_fraction_leaf=0.0, n_estimators=300, n_jobs=1,\n",
       "           oob_score=False, random_state=None, verbose=0, warm_start=False)"
      ]
     },
     "execution_count": 139,
     "metadata": {},
     "output_type": "execute_result"
    }
   ],
   "source": [
    "rfr_time_best.fit(train_time_X, train_time_y)"
   ]
  },
  {
   "cell_type": "code",
   "execution_count": 140,
   "metadata": {},
   "outputs": [
    {
     "name": "stdout",
     "output_type": "stream",
     "text": [
      "Train R-squared: 0.44\n",
      "Val R-squared: 0.206\n",
      "Test R-squared: 0.19\n"
     ]
    }
   ],
   "source": [
    "print('Train R-squared: {:.3}'.format(rfr_time_best.score(train_time_X, train_time_y)))\n",
    "print('Val R-squared: {:.3}'.format(rfr_time_best.score(val_time_X, val_time_y)))\n",
    "print('Test R-squared: {:.3}'.format(rfr_time_best.score(test_time_X, test_time_y)))\n"
   ]
  },
  {
   "cell_type": "code",
   "execution_count": 141,
   "metadata": {},
   "outputs": [
    {
     "name": "stdout",
     "output_type": "stream",
     "text": [
      "Train Adjusted R-squared: 0.432\n",
      "Val Adjusted R-squared: 0.174\n",
      "Test Adjusted R-squared: 0.166\n"
     ]
    }
   ],
   "source": [
    "print('Train Adjusted R-squared: {:.3}'.format(get_adjusted_r2(rfr_time_best, train_time_X, train_time_y)))\n",
    "print('Val Adjusted R-squared: {:.3}'.format(get_adjusted_r2(rfr_time_best, val_time_X, val_time_y)))\n",
    "print('Test Adjusted R-squared: {:.3}'.format(get_adjusted_r2(rfr_time_best, test_time_X, test_time_y)))\n"
   ]
  },
  {
   "cell_type": "code",
   "execution_count": 142,
   "metadata": {},
   "outputs": [
    {
     "name": "stdout",
     "output_type": "stream",
     "text": [
      "Train MAE: 30.52933071322958\n",
      "Val MAE: 35.68072106516894\n"
     ]
    }
   ],
   "source": [
    "print('Train MAE: {}'.format(mean_absolute_error(y_true = daysToSale_train, y_pred = [max(np.exp(i),0) for i in rfr_time_best.predict(train_time_X)])))\n",
    "print('Val MAE: {}'.format(mean_absolute_error(y_true = daysToSale_val, y_pred = [max(np.exp(i),0) for i in rfr_time_best.predict(val_time_X)])))\n"
   ]
  },
  {
   "cell_type": "code",
   "execution_count": 146,
   "metadata": {},
   "outputs": [
    {
     "name": "stdout",
     "output_type": "stream",
     "text": [
      "Train MAPE: 56.54331929004478\n",
      "Val MAPE: 84.96565007282788\n",
      "Test MAPE: 86.65761318159353\n"
     ]
    }
   ],
   "source": [
    "print('Train MAPE: {}'.format(get_mape(y_true = daysToSale_train['DaysToSale'], y_pred = [max(np.exp(i),0) for i in rfr_time_best.predict(train_time_X)])))\n",
    "print('Val MAPE: {}'.format(get_mape(y_true = daysToSale_val['DaysToSale'], y_pred = [max(np.exp(i),0) for i in rfr_time_best.predict(val_time_X)])))\n",
    "print('Test MAPE: {}'.format(get_mape(y_true = daysToSale_test['DaysToSale'], y_pred = [max(np.exp(i),0) for i in rfr_time_best.predict(test_time_X)])))\n"
   ]
  },
  {
   "cell_type": "code",
   "execution_count": 147,
   "metadata": {},
   "outputs": [
    {
     "name": "stdout",
     "output_type": "stream",
     "text": [
      "Train MdAPE: 33.131454558524446\n",
      "Val MdAPE: 36.02365943218066\n",
      "Test MdAPE: 36.3629817818934\n"
     ]
    }
   ],
   "source": [
    "print('Train MdAPE: {}'.format(get_mdape(y_true = daysToSale_train['DaysToSale'], y_pred = [max(np.exp(i),0) for i in rfr_time_best.predict(train_time_X)])))\n",
    "print('Val MdAPE: {}'.format(get_mdape(y_true = daysToSale_val['DaysToSale'], y_pred = [max(np.exp(i),0) for i in rfr_time_best.predict(val_time_X)])))\n",
    "print('Test MdAPE: {}'.format(get_mdape(y_true = daysToSale_test['DaysToSale'], y_pred = [max(np.exp(i),0) for i in rfr_time_best.predict(test_time_X)])))\n"
   ]
  },
  {
   "cell_type": "code",
   "execution_count": 150,
   "metadata": {},
   "outputs": [
    {
     "name": "stdout",
     "output_type": "stream",
     "text": [
      "Percent of estimates within 10% of Days to Sale:  0.15\n",
      "Percent of esimtates within 5% of Days to Sale:  0.07\n"
     ]
    }
   ],
   "source": [
    "y_pred = [max(np.exp(i),0) for i in rfr_time_best.predict(test_time_X)]\n",
    "y_true = daysToSale_test['DaysToSale']\n",
    "\n",
    "abs_error = np.abs(y_pred - y_true)/y_true\n",
    "print('Percent of estimates within 10% of Days to Sale: ', round(len(abs_error[abs_error <= .1])/len(y_true), 2))\n",
    "print('Percent of esimtates within 5% of Days to Sale: ', round(len(abs_error[abs_error <= .05])/len(y_true), 2))"
   ]
  },
  {
   "cell_type": "markdown",
   "metadata": {},
   "source": [
    "## XGBoost"
   ]
  },
  {
   "cell_type": "code",
   "execution_count": 155,
   "metadata": {
    "collapsed": true
   },
   "outputs": [],
   "source": [
    "xg_time  = xgb.XGBRegressor(booster = 'gbtree',\n",
    "                             colsample_bylevel = 0.7975672517275115,\n",
    "                             colsample_bytree = 0.8443509791613824,\n",
    "                             gamma = 839424.4221875,\n",
    "                             learning_rate = 0.9651334767731446,\n",
    "                             max_depth = 87,\n",
    "                             min_child_weight = 730507.0808146001,\n",
    "                             reg_alpha = 0.18322172403428827,\n",
    "                             reg_lambda = 0.9933666819567081,\n",
    "                             subsample = 0.34808002007992633\n",
    "                           )\n",
    "\n"
   ]
  },
  {
   "cell_type": "code",
   "execution_count": 156,
   "metadata": {
    "scrolled": true
   },
   "outputs": [
    {
     "data": {
      "text/plain": [
       "XGBRegressor(base_score=0.5, booster='gbtree',\n",
       "       colsample_bylevel=0.7975672517275115,\n",
       "       colsample_bytree=0.8443509791613824, gamma=839424.4221875,\n",
       "       importance_type='gain', learning_rate=0.9651334767731446,\n",
       "       max_delta_step=0, max_depth=87, min_child_weight=730507.0808146001,\n",
       "       missing=None, n_estimators=100, n_jobs=1, nthread=None,\n",
       "       objective='reg:linear', random_state=0,\n",
       "       reg_alpha=0.18322172403428827, reg_lambda=0.9933666819567081,\n",
       "       scale_pos_weight=1, seed=None, silent=True,\n",
       "       subsample=0.34808002007992633)"
      ]
     },
     "execution_count": 156,
     "metadata": {},
     "output_type": "execute_result"
    }
   ],
   "source": [
    "xg_time.fit(train_time_X, train_time_y)"
   ]
  },
  {
   "cell_type": "code",
   "execution_count": 157,
   "metadata": {},
   "outputs": [
    {
     "name": "stdout",
     "output_type": "stream",
     "text": [
      "Train R-squared: -2.55e-06\n",
      "Train Adjusted R-squared: -0.016\n",
      "Val R-squared: -1.22e-05\n",
      "Val Adjusted R-squared: -0.0495\n",
      "Test R-squared: -7.74e-05\n",
      "Test Adjusted R-squared: -0.0368\n"
     ]
    }
   ],
   "source": [
    "print('Train R-squared: {:.3}'.format(xg_time.score(train_time_X, train_time_y)))\n",
    "print('Train Adjusted R-squared: {:.3}'.format(get_adjusted_r2(xg_time, train_time_X, train_time_y)))\n",
    "\n",
    "print('Val R-squared: {:.3}'.format(xg_time.score(val_time_X, val_time_y)))\n",
    "print('Val Adjusted R-squared: {:.3}'.format(get_adjusted_r2(xg_time, val_time_X, val_time_y)))\n",
    "\n",
    "print('Test R-squared: {:.3}'.format(xg_time.score(test_time_X, test_time_y)))\n",
    "print('Test Adjusted R-squared: {:.3}'.format(get_adjusted_r2(xg_time, test_time_X, test_time_y)))"
   ]
  },
  {
   "cell_type": "code",
   "execution_count": 158,
   "metadata": {},
   "outputs": [
    {
     "name": "stdout",
     "output_type": "stream",
     "text": [
      "Train MAE: 41.776312892579526\n",
      "Val MAE: 41.33565604456362\n"
     ]
    }
   ],
   "source": [
    "print('Train MAE: {}'.format(mean_absolute_error(y_true = daysToSale_train['DaysToSale'], y_pred = [max(np.exp(i),0) for i in xg_time.predict(train_time_X)])))\n",
    "print('Val MAE: {}'.format(mean_absolute_error(y_true = daysToSale_val['DaysToSale'], y_pred = [max(np.exp(i),0) for i in xg_time.predict(val_time_X)])))\n"
   ]
  },
  {
   "cell_type": "code",
   "execution_count": 159,
   "metadata": {
    "scrolled": true
   },
   "outputs": [
    {
     "name": "stdout",
     "output_type": "stream",
     "text": [
      "Train MAPE: 93.31166602800664\n",
      "Val MAPE: 92.87407882659711\n",
      "Test MAPE: 88.47354208397552\n"
     ]
    }
   ],
   "source": [
    "print('Train MAPE: {}'.format(get_mape(y_true = daysToSale_train['DaysToSale'], y_pred = [max(np.exp(i),0) for i in xg_time.predict(train_time_X)])))\n",
    "print('Val MAPE: {}'.format(get_mape(y_true = daysToSale_val['DaysToSale'], y_pred = [max(np.exp(i),0) for i in xg_time.predict(val_time_X)])))\n",
    "print('Test MAPE: {}'.format(get_mape(y_true = daysToSale_test['DaysToSale'], y_pred = [max(np.exp(i),0) for i in xg_time.predict(test_time_X)])))\n"
   ]
  },
  {
   "cell_type": "code",
   "execution_count": 160,
   "metadata": {},
   "outputs": [
    {
     "name": "stdout",
     "output_type": "stream",
     "text": [
      "Train MdAPE: 44.54533576965332\n",
      "Val MdAPE: 44.54533576965332\n",
      "Test MdAPE: 44.54533576965332\n"
     ]
    }
   ],
   "source": [
    "print('Train MdAPE: {}'.format(get_mdape(y_true = daysToSale_train['DaysToSale'], y_pred = [max(np.exp(i),0) for i in xg_time.predict(train_time_X)])))\n",
    "print('Val MdAPE: {}'.format(get_mdape(y_true = daysToSale_val['DaysToSale'], y_pred = [max(np.exp(i),0) for i in xg_time.predict(val_time_X)])))\n",
    "print('Test MdAPE: {}'.format(get_mdape(y_true = daysToSale_test['DaysToSale'], y_pred = [max(np.exp(i),0) for i in xg_time.predict(test_time_X)])))\n"
   ]
  },
  {
   "cell_type": "code",
   "execution_count": 161,
   "metadata": {},
   "outputs": [
    {
     "name": "stdout",
     "output_type": "stream",
     "text": [
      "Percent of estimates within 10% of Sale Price:  0.11\n",
      "Percent of esimtates within 5% of Sale Price:  0.04\n"
     ]
    }
   ],
   "source": [
    "y_pred = [max(np.exp(i),0) for i in xg_time.predict(test_time_X)]\n",
    "y_true = daysToSale_test['DaysToSale']\n",
    "\n",
    "abs_error = np.abs(y_pred - y_true)/y_true\n",
    "print('Percent of estimates within 10% of Sale Price: ', round(len(abs_error[abs_error <= .1])/len(y_true), 2))\n",
    "print('Percent of esimtates within 5% of Sale Price: ', round(len(abs_error[abs_error <= .05])/len(y_true), 2))"
   ]
  },
  {
   "cell_type": "markdown",
   "metadata": {},
   "source": [
    "# Visualizations"
   ]
  },
  {
   "cell_type": "code",
   "execution_count": 28,
   "metadata": {
    "collapsed": true
   },
   "outputs": [],
   "source": [
    "import seaborn as sns\n",
    "import matplotlib.pyplot as plt"
   ]
  },
  {
   "cell_type": "code",
   "execution_count": 29,
   "metadata": {},
   "outputs": [
    {
     "data": {
      "text/plain": [
       "'0.9.0'"
      ]
     },
     "execution_count": 29,
     "metadata": {},
     "output_type": "execute_result"
    }
   ],
   "source": [
    "sns.__version__"
   ]
  },
  {
   "cell_type": "code",
   "execution_count": 113,
   "metadata": {},
   "outputs": [
    {
     "name": "stderr",
     "output_type": "stream",
     "text": [
      "/Library/Frameworks/Python.framework/Versions/3.6/lib/python3.6/site-packages/scipy/stats/stats.py:1706: FutureWarning: Using a non-tuple sequence for multidimensional indexing is deprecated; use `arr[tuple(seq)]` instead of `arr[seq]`. In the future this will be interpreted as an array index, `arr[np.array(seq)]`, which will result either in an error or a different result.\n",
      "  return np.add.reduce(sorted[indexer] * weights, axis=axis) / sumval\n",
      "/Library/Frameworks/Python.framework/Versions/3.6/lib/python3.6/site-packages/matplotlib/axes/_axes.py:6462: UserWarning: The 'normed' kwarg is deprecated, and has been replaced by the 'density' kwarg.\n",
      "  warnings.warn(\"The 'normed' kwarg is deprecated, and has been \"\n"
     ]
    },
    {
     "data": {
      "text/plain": [
       "<matplotlib.axes._subplots.AxesSubplot at 0x125d82358>"
      ]
     },
     "execution_count": 113,
     "metadata": {},
     "output_type": "execute_result"
    }
   ],
   "source": [
    "sns.distplot(np.log(train_time_y))"
   ]
  },
  {
   "cell_type": "code",
   "execution_count": 114,
   "metadata": {},
   "outputs": [
    {
     "data": {
      "image/png": "[encoded data removed]",
      "text/plain": [
       "<Figure size 432x288 with 1 Axes>"
      ]
     },
     "metadata": {},
     "output_type": "display_data"
    }
   ],
   "source": [
    "plt.show()"
   ]
  },
  {
   "cell_type": "code",
   "execution_count": 33,
   "metadata": {},
   "outputs": [
    {
     "data": {
      "image/png": "[encoded data removed]",
      "text/plain": [
       "<Figure size 432x288 with 1 Axes>"
      ]
     },
     "metadata": {},
     "output_type": "display_data"
    }
   ],
   "source": [
    "sns.scatterplot(x=\"DaysToSale\", y=\"NormalizedListPrice\", data = df_noNA)\n",
    "plt.show()"
   ]
  },
  {
   "cell_type": "code",
   "execution_count": 37,
   "metadata": {},
   "outputs": [
    {
     "data": {
      "text/plain": [
       "<seaborn.axisgrid.PairGrid at 0x12e716d68>"
      ]
     },
     "execution_count": 37,
     "metadata": {},
     "output_type": "execute_result"
    }
   ],
   "source": [
    "sns.PairGrid(df_noNA[['DaysToSale','NormalizedListPrice','BuildingAreaSqFt',\n",
    "                      'LotSizeSquareFeet','NoOfStories', 'TotalBedrooms','NormalizedBathCount',\n",
    "                      'LandAssessedValue','TotalAssessedValue','built_prct','YearBuilt'\n",
    "                     ]]).map(plt.scatter)\n",
    "#plt.show()"
   ]
  },
  {
   "cell_type": "code",
   "execution_count": 38,
   "metadata": {},
   "outputs": [
    {
     "data": {
      "image/png": "[encoded data removed]",
      "text/plain": [
       "<Figure size 1980x1980 with 121 Axes>"
      ]
     },
     "metadata": {},
     "output_type": "display_data"
    }
   ],
   "source": [
    "plt.show()"
   ]
  },
  {
   "cell_type": "code",
   "execution_count": 35,
   "metadata": {},
   "outputs": [
    {
     "data": {
      "image/png": "[encoded data removed]",
      "text/plain": [
       "<Figure size 900x900 with 25 Axes>"
      ]
     },
     "metadata": {},
     "output_type": "display_data"
    }
   ],
   "source": [
    "sns.PairGrid(df_noNA[['DaysToSale','NormalizedListPrice','BuildingAreaSqFt',\n",
    "                      'built_prct','YearBuilt'\n",
    "                     ]])\n",
    "plt.show()"
   ]
  },
  {
   "cell_type": "markdown",
   "metadata": {},
   "source": [
    "# ----- IN PROGRESS -- MAY NOT RUN -----"
   ]
  },
  {
   "cell_type": "markdown",
   "metadata": {},
   "source": [
    "### Cross Validation"
   ]
  },
  {
   "cell_type": "code",
   "execution_count": 151,
   "metadata": {
    "collapsed": true
   },
   "outputs": [],
   "source": [
    "from hyperopt import hp, tpe, fmin, STATUS_OK"
   ]
  },
  {
   "cell_type": "code",
   "execution_count": 134,
   "metadata": {
    "collapsed": true
   },
   "outputs": [],
   "source": [
    "data_dmatrix = xgb.DMatrix(data=train_time_X,label=train_time_y)"
   ]
  },
  {
   "cell_type": "code",
   "execution_count": 188,
   "metadata": {
    "collapsed": true
   },
   "outputs": [],
   "source": [
    "N_FOLDS = 10\n",
    "\n",
    "def objective(params, n_folds = N_FOLDS):\n",
    "    \"\"\"Objective function for Gradient Boosting Machine Hyperparameter Tuning\"\"\"\n",
    "    \n",
    "    # Perform n_fold cross validation with hyperparameters\n",
    "    # Use early stopping and evalute based on ROC AUC\n",
    "\n",
    "    print('Params: \\n', params, '\\n')\n",
    "    cv_results = xgb.cv(dtrain = data_dmatrix, \n",
    "                        params = params,\n",
    "                        nfold = n_folds, \n",
    "                        num_boost_round = 10000, \n",
    "                        early_stopping_rounds = 100, \n",
    "                        metrics = 'mae', \n",
    "                        as_pandas = True, \n",
    "                        seed = 50)\n",
    "    \n",
    "    # Extract the best score\n",
    "    loss = min(cv_results['test-mae-mean'])\n",
    "    \n",
    "    # Dictionary with information for evaluation\n",
    "    return {'loss': loss, 'params': params, 'status': STATUS_OK}"
   ]
  },
  {
   "cell_type": "code",
   "execution_count": 189,
   "metadata": {
    "collapsed": true
   },
   "outputs": [],
   "source": [
    "# Define the search space\n",
    "\n",
    "space = { \n",
    "            'colsample_bylevel':hp.uniform('colsample_bylevel', 0.0, 1.0),\n",
    "            'colsample_bytree':hp.uniform('colsample_bytree', 0.0, 1.0), \n",
    "            'gamma':hp.uniform('gamma', 0, 100),\n",
    "            'learning_rate':hp.uniform('learning_rate', 0.0, 1.0), \n",
    "            'max_depth':hp.choice('max_depth', np.arange(1,100, dtype=int)),\n",
    "            'min_child_weight':hp.uniform('min_child_weight',0, 100), \n",
    "            'reg_alpha':hp.uniform('reg_alpha', 0, 1),\n",
    "            'reg_lambda':hp.uniform('reg_lambda', 0, 1), \n",
    "            'subsample':hp.uniform('subsample', 0, 1)\n",
    "        }\n",
    "                                "
   ]
  },
  {
   "cell_type": "code",
   "execution_count": 147,
   "metadata": {
    "collapsed": true
   },
   "outputs": [],
   "source": [
    "tpe_algorithm =  tpe.suggest"
   ]
  },
  {
   "cell_type": "code",
   "execution_count": 184,
   "metadata": {
    "collapsed": true
   },
   "outputs": [],
   "source": [
    "data_dmatrix = xgb.DMatrix(data=train_reg_X,label=train_reg_y)"
   ]
  },
  {
   "cell_type": "code",
   "execution_count": null,
   "metadata": {
    "scrolled": true
   },
   "outputs": [
    {
     "name": "stdout",
     "output_type": "stream",
     "text": [
      "Params:                                              \n",
      "\n",
      "{'colsample_bylevel': 0.539529542551914, 'colsample_bytree': 0.6800915144963143, 'gamma': 33.91417420467665, 'learning_rate': 0.44861433335655554, 'max_depth': 95, 'min_child_weight': 20.89177141736107, 'reg_alpha': 0.8241519667404232, 'reg_lambda': 0.07157596639526975, 'subsample': 0.39350635435097203}\n",
      "Params:                                                                  \n",
      "\n",
      "{'colsample_bylevel': 0.3805400454036574, 'colsample_bytree': 0.8771470149012617, 'gamma': 43.71341799425706, 'learning_rate': 0.6948423663835257, 'max_depth': 39, 'min_child_weight': 36.84227423924008, 'reg_alpha': 0.6192064742862363, 'reg_lambda': 0.5888399998443546, 'subsample': 0.8007545500890911}\n",
      "Params:                                                                  \n",
      "\n",
      "{'colsample_bylevel': 0.19783620260853252, 'colsample_bytree': 0.04702578008814495, 'gamma': 16.574306489047817, 'learning_rate': 0.49641841456899516, 'max_depth': 44, 'min_child_weight': 34.42197564504767, 'reg_alpha': 0.6376563717876779, 'reg_lambda': 0.35805895036994484, 'subsample': 0.8679751011837619}\n",
      "Params:                                                                 \n",
      "\n",
      "{'colsample_bylevel': 0.87618081267676, 'colsample_bytree': 0.04291468119226016, 'gamma': 62.61413545095581, 'learning_rate': 0.2866807866301997, 'max_depth': 25, 'min_child_weight': 71.49619259061896, 'reg_alpha': 0.8782225563818938, 'reg_lambda': 0.930194572344411, 'subsample': 0.6793336278471732}\n",
      "Params:                                                                 \n",
      "\n",
      "{'colsample_bylevel': 0.7355026960947528, 'colsample_bytree': 0.19029643806527918, 'gamma': 10.379552388937707, 'learning_rate': 0.48864265040031085, 'max_depth': 13, 'min_child_weight': 65.18079309261759, 'reg_alpha': 0.8041576217504378, 'reg_lambda': 0.6430247466075701, 'subsample': 0.6401217061134855}\n",
      "Params:                                                                 \n",
      "\n",
      "{'colsample_bylevel': 0.3230695612982317, 'colsample_bytree': 0.962103192185641, 'gamma': 59.6818325520711, 'learning_rate': 0.5152047005951591, 'max_depth': 78, 'min_child_weight': 86.19339676846444, 'reg_alpha': 0.3400844251762142, 'reg_lambda': 0.021487008885405556, 'subsample': 0.6477384797963767}\n",
      "Params:                                                                    \n",
      "\n",
      "{'colsample_bylevel': 0.08692748264574357, 'colsample_bytree': 0.2013804134555709, 'gamma': 4.962343410868386, 'learning_rate': 0.6324785591983461, 'max_depth': 24, 'min_child_weight': 20.660403470419087, 'reg_alpha': 0.24959411573814483, 'reg_lambda': 0.8661522365113611, 'subsample': 0.5110733387206547}\n",
      "Params:                                                                               \n",
      "\n",
      "{'colsample_bylevel': 0.4958567845250208, 'colsample_bytree': 0.7880293431731883, 'gamma': 53.851496960233106, 'learning_rate': 0.40547090648235884, 'max_depth': 70, 'min_child_weight': 67.75485880753875, 'reg_alpha': 0.1790722713440993, 'reg_lambda': 0.8534233575307064, 'subsample': 0.16808849539837156}\n",
      "Params:                                                                               \n",
      "\n",
      "{'colsample_bylevel': 0.5864575507001214, 'colsample_bytree': 0.47257417921584943, 'gamma': 80.36603604034968, 'learning_rate': 0.09344100797230648, 'max_depth': 96, 'min_child_weight': 15.408792559314932, 'reg_alpha': 0.004449859354780483, 'reg_lambda': 0.009031786786004248, 'subsample': 0.11248489813993312}\n",
      "Params:                                                                               \n",
      "\n",
      "{'colsample_bylevel': 0.7507511928152315, 'colsample_bytree': 0.22278854058962738, 'gamma': 59.030706337301766, 'learning_rate': 0.4142222506564339, 'max_depth': 33, 'min_child_weight': 91.26504857134961, 'reg_alpha': 0.5999332741798534, 'reg_lambda': 0.7113429686424779, 'subsample': 0.5399111634302219}\n",
      "Params:                                                                                \n",
      "\n",
      "{'colsample_bylevel': 0.86493916078811, 'colsample_bytree': 0.5563118197366731, 'gamma': 5.755600428627039, 'learning_rate': 0.1597710248801011, 'max_depth': 81, 'min_child_weight': 50.1463159680685, 'reg_alpha': 0.604078846024587, 'reg_lambda': 0.09549189631360133, 'subsample': 0.47415647893717283}\n",
      "Params:                                                                                \n",
      "\n",
      "{'colsample_bylevel': 0.18667755900572947, 'colsample_bytree': 0.0412996398326787, 'gamma': 97.22658011856015, 'learning_rate': 0.5004316809035703, 'max_depth': 3, 'min_child_weight': 96.35061619636389, 'reg_alpha': 0.7563425698383944, 'reg_lambda': 0.02294576824821959, 'subsample': 0.653479050232436}\n",
      "Params:                                                                     \n",
      "\n",
      "{'colsample_bylevel': 0.5615922296259199, 'colsample_bytree': 0.44956582090664754, 'gamma': 20.153902846228366, 'learning_rate': 0.3605437386866399, 'max_depth': 30, 'min_child_weight': 86.67955739735083, 'reg_alpha': 0.48523232799394345, 'reg_lambda': 0.07090089448685055, 'subsample': 0.685319661724877}\n",
      "Params:                                                                     \n",
      "\n",
      "{'colsample_bylevel': 0.7412106422517712, 'colsample_bytree': 0.753830129095797, 'gamma': 35.18066626614092, 'learning_rate': 0.7698673645794137, 'max_depth': 5, 'min_child_weight': 55.041307522254016, 'reg_alpha': 0.4683769798612626, 'reg_lambda': 0.9402286777622932, 'subsample': 0.5956653855734415}\n",
      "Params:                                                                    \n",
      "\n",
      "{'colsample_bylevel': 0.6214985923588802, 'colsample_bytree': 0.1378603324319736, 'gamma': 16.86555517600893, 'learning_rate': 0.8358029840689861, 'max_depth': 17, 'min_child_weight': 24.695971544055816, 'reg_alpha': 0.35810096690646087, 'reg_lambda': 0.5231562151509718, 'subsample': 0.6843491812637205}\n",
      "Params:                                                                    \n",
      "\n",
      "{'colsample_bylevel': 0.008658508834911594, 'colsample_bytree': 0.986725787303102, 'gamma': 76.85929727177552, 'learning_rate': 0.9794933202585874, 'max_depth': 50, 'min_child_weight': 22.468679642834754, 'reg_alpha': 0.2065722918428582, 'reg_lambda': 0.6822081115462246, 'subsample': 0.37373751431490376}\n",
      "Params:                                                                    \n",
      "\n",
      "{'colsample_bylevel': 0.8694106489336623, 'colsample_bytree': 0.11073252102764686, 'gamma': 90.135998470363, 'learning_rate': 0.4107339453238006, 'max_depth': 8, 'min_child_weight': 23.05274615491333, 'reg_alpha': 0.43894686526543536, 'reg_lambda': 0.0020389675423938547, 'subsample': 0.45026032648399117}\n",
      "Params:                                                                   \n",
      "\n",
      "{'colsample_bylevel': 0.319231707367716, 'colsample_bytree': 0.9932792132450744, 'gamma': 58.765200625613346, 'learning_rate': 0.4116817954938512, 'max_depth': 20, 'min_child_weight': 72.62225910487267, 'reg_alpha': 0.7257898954702671, 'reg_lambda': 0.12477650102078308, 'subsample': 0.6621201831673899}\n",
      "Params:                                                                   \n",
      "\n",
      "{'colsample_bylevel': 0.2482159140407847, 'colsample_bytree': 0.5051907025938681, 'gamma': 89.81167382863997, 'learning_rate': 0.3095520713959513, 'max_depth': 43, 'min_child_weight': 63.55184706031076, 'reg_alpha': 0.5213950653350834, 'reg_lambda': 0.4501210745225208, 'subsample': 0.08067109645669557}\n",
      "Params:                                                                   \n",
      "\n",
      "{'colsample_bylevel': 0.9053812916138385, 'colsample_bytree': 0.618587855228009, 'gamma': 71.98491682259692, 'learning_rate': 0.37279190661567774, 'max_depth': 56, 'min_child_weight': 49.01266930744096, 'reg_alpha': 0.3152163510325512, 'reg_lambda': 0.7728976257096423, 'subsample': 0.9822054660998503}\n",
      "Params:                                                                   \n",
      "\n",
      "{'colsample_bylevel': 0.9891846518440258, 'colsample_bytree': 0.3442090808519754, 'gamma': 24.096785631581852, 'learning_rate': 0.028481838992313824, 'max_depth': 26, 'min_child_weight': 0.7759889356918066, 'reg_alpha': 0.9324732735272934, 'reg_lambda': 0.20687284738126244, 'subsample': 0.286674376106677}\n",
      "Params:                                                                    \n",
      "\n",
      "{'colsample_bylevel': 0.460784789639889, 'colsample_bytree': 0.40351328083165433, 'gamma': 0.6300504824168511, 'learning_rate': 0.16301807219388215, 'max_depth': 68, 'min_child_weight': 99.9647477998431, 'reg_alpha': 0.07508954693645054, 'reg_lambda': 0.265799653400175, 'subsample': 0.8380985856398511}\n"
     ]
    },
    {
     "name": "stdout",
     "output_type": "stream",
     "text": [
      "Params:                                                                                \n",
      "\n",
      "{'colsample_bylevel': 0.677810541696115, 'colsample_bytree': 0.321926236645201, 'gamma': 3.4181835187701206, 'learning_rate': 0.17129991578853504, 'max_depth': 10, 'min_child_weight': 1.7739425653561014, 'reg_alpha': 0.03548605118612215, 'reg_lambda': 0.28357553416734516, 'subsample': 0.993369892844477}\n",
      "Params:                                                                                \n",
      "\n",
      "{'colsample_bylevel': 0.42486198694886884, 'colsample_bytree': 0.3578558586518842, 'gamma': 0.22342518759761165, 'learning_rate': 0.21185942320342394, 'max_depth': 46, 'min_child_weight': 3.7375336795564174, 'reg_alpha': 0.03637837749309989, 'reg_lambda': 0.2921268112153946, 'subsample': 0.991662404670513}\n",
      "Params:                                                                                \n",
      "\n",
      "{'colsample_bylevel': 0.46126664279173984, 'colsample_bytree': 0.3496724375753665, 'gamma': 29.388459917701894, 'learning_rate': 0.009188832661865959, 'max_depth': 62, 'min_child_weight': 9.384477119073804, 'reg_alpha': 0.12772258376644072, 'reg_lambda': 0.3843890695323721, 'subsample': 0.8613027997807455}\n",
      "Params:                                                                      \n",
      "\n",
      "{'colsample_bylevel': 0.4257100744772985, 'colsample_bytree': 0.403380954787624, 'gamma': 43.44104551983397, 'learning_rate': 0.24484756402439922, 'max_depth': 68, 'min_child_weight': 77.84341990388232, 'reg_alpha': 0.062067060434127394, 'reg_lambda': 0.21883783721892736, 'subsample': 0.9469069252098035}\n",
      "Params:                                                                      \n",
      "\n",
      "{'colsample_bylevel': 0.3745204376962721, 'colsample_bytree': 0.2752273200537737, 'gamma': 0.1780240583391363, 'learning_rate': 0.19432663897980795, 'max_depth': 73, 'min_child_weight': 38.633799778234696, 'reg_alpha': 0.09784965873208885, 'reg_lambda': 0.3181138963054535, 'subsample': 0.7804537880545089}\n",
      "Params:                                                                      \n",
      "\n",
      "{'colsample_bylevel': 0.10993769811721343, 'colsample_bytree': 0.29930826318565096, 'gamma': 0.19566070947760372, 'learning_rate': 0.07727900904162185, 'max_depth': 87, 'min_child_weight': 36.20395849499364, 'reg_alpha': 0.1272977874839679, 'reg_lambda': 0.482699970534646, 'subsample': 0.9343328800017698}\n",
      "Params:                                                                      \n",
      "\n",
      "{'colsample_bylevel': 0.05467054556882167, 'colsample_bytree': 0.24891925675060503, 'gamma': 11.234430094425786, 'learning_rate': 0.08259572247981743, 'max_depth': 87, 'min_child_weight': 36.095605281648574, 'reg_alpha': 0.128856944079265, 'reg_lambda': 0.5131373304754908, 'subsample': 0.7966415284686595}\n",
      "Params:                                                                      \n",
      "\n",
      "{'colsample_bylevel': 0.12548942199938978, 'colsample_bytree': 0.2846050292428128, 'gamma': 35.67640168469549, 'learning_rate': 0.07729533439348209, 'max_depth': 79, 'min_child_weight': 43.25134130445873, 'reg_alpha': 0.285309406596289, 'reg_lambda': 0.40181861208056285, 'subsample': 0.9171013976080948}\n",
      "Params:                                                                      \n",
      "\n",
      "{'colsample_bylevel': 0.25157540035770326, 'colsample_bytree': 0.5891278460152325, 'gamma': 27.200007556758564, 'learning_rate': 0.004557478241552629, 'max_depth': 60, 'min_child_weight': 31.08303909657468, 'reg_alpha': 0.4001589119961501, 'reg_lambda': 0.5599624118002522, 'subsample': 0.7425303864808972}\n",
      "Params:                                                                       \n",
      "\n",
      "{'colsample_bylevel': 0.008277293165573518, 'colsample_bytree': 0.6757757727911367, 'gamma': 11.44048772698903, 'learning_rate': 0.3067593322149874, 'max_depth': 73, 'min_child_weight': 41.85634792298161, 'reg_alpha': 0.12552340247403748, 'reg_lambda': 0.45695307183376704, 'subsample': 0.7608674516188654}\n",
      "Params:                                                                       \n",
      "\n",
      "{'colsample_bylevel': 0.35699731807479856, 'colsample_bytree': 0.14457823386860003, 'gamma': 41.94733402334703, 'learning_rate': 0.6320113426531769, 'max_depth': 53, 'min_child_weight': 59.6197391643899, 'reg_alpha': 0.23480730234454716, 'reg_lambda': 0.16144657230830906, 'subsample': 0.9021352072546298}\n",
      "Params:                                                                      \n",
      "\n",
      "{'colsample_bylevel': 0.17735014370598773, 'colsample_bytree': 0.2592455680553982, 'gamma': 20.999544555652914, 'learning_rate': 0.11601657145839886, 'max_depth': 16, 'min_child_weight': 30.976116081031673, 'reg_alpha': 0.17045469320517975, 'reg_lambda': 0.5953757498477079, 'subsample': 0.7566400103097233}\n",
      "Params:                                                                      \n",
      "\n",
      "{'colsample_bylevel': 0.2672336031180817, 'colsample_bytree': 0.09323600473761559, 'gamma': 49.395476052225426, 'learning_rate': 0.24171071747909328, 'max_depth': 61, 'min_child_weight': 43.51619275770957, 'reg_alpha': 0.5377982280687091, 'reg_lambda': 0.33370847880119503, 'subsample': 0.5776748643321213}\n",
      "Params:                                                                     \n",
      "\n",
      "{'colsample_bylevel': 0.1052384639862234, 'colsample_bytree': 0.021944080984083958, 'gamma': 14.443620829459658, 'learning_rate': 0.5581776061933966, 'max_depth': 40, 'min_child_weight': 13.341548837139367, 'reg_alpha': 0.00761968061561831, 'reg_lambda': 0.40945501305375387, 'subsample': 0.8321030636870024}\n",
      "Params:                                                                     \n",
      "\n",
      "{'colsample_bylevel': 0.152528768425506, 'colsample_bytree': 0.17600279600847774, 'gamma': 7.804972407801137, 'learning_rate': 0.9962012077195328, 'max_depth': 48, 'min_child_weight': 29.00551945127921, 'reg_alpha': 0.27731606297360123, 'reg_lambda': 0.4677045041933181, 'subsample': 0.30934274476303086}\n",
      "Params:                                                                     \n",
      "\n",
      "{'colsample_bylevel': 0.3057339101812143, 'colsample_bytree': 0.5332803999241444, 'gamma': 67.14571952705296, 'learning_rate': 0.041953565204627175, 'max_depth': 19, 'min_child_weight': 53.87894963967529, 'reg_alpha': 0.3799864355579008, 'reg_lambda': 0.5811930812882086, 'subsample': 0.9256144597880798}\n",
      "Params:                                                                     \n",
      "\n",
      "{'colsample_bylevel': 0.060549225876358914, 'colsample_bytree': 0.42423049612861097, 'gamma': 30.873732043977817, 'learning_rate': 0.3367997184221919, 'max_depth': 74, 'min_child_weight': 39.18204322825458, 'reg_alpha': 0.08898264884093868, 'reg_lambda': 0.3261408430853667, 'subsample': 0.7302494324605597}\n",
      "Params:                                                                     \n",
      "\n",
      "{'colsample_bylevel': 0.5301412245504018, 'colsample_bytree': 0.2873460757265797, 'gamma': 38.80644091479028, 'learning_rate': 0.21929663147417774, 'max_depth': 89, 'min_child_weight': 16.78670213040661, 'reg_alpha': 0.18078185962948692, 'reg_lambda': 0.6463222439517355, 'subsample': 0.8756631937957353}\n",
      "Params:                                                                     \n",
      "\n",
      "{'colsample_bylevel': 0.3805202188640331, 'colsample_bytree': 0.8414044268859884, 'gamma': 50.93682415268561, 'learning_rate': 0.46255788957064714, 'max_depth': 14, 'min_child_weight': 49.92600497551846, 'reg_alpha': 0.4187985522995147, 'reg_lambda': 0.22081843359514708, 'subsample': 0.01544838444281027}\n",
      "Params:                                                                     \n",
      "\n",
      "{'colsample_bylevel': 0.23281776255571374, 'colsample_bytree': 0.6864680357231088, 'gamma': 0.7241557035351676, 'learning_rate': 0.1326460607506568, 'max_depth': 76, 'min_child_weight': 58.955439677531416, 'reg_alpha': 0.7039384838037691, 'reg_lambda': 0.768993263948127, 'subsample': 0.5917589852222911}\n",
      "Params:                                                                      \n",
      "\n",
      "{'colsample_bylevel': 0.20365891799789032, 'colsample_bytree': 0.2053017379805397, 'gamma': 18.26876756386813, 'learning_rate': 0.5716445740692031, 'max_depth': 84, 'min_child_weight': 8.23146625376993, 'reg_alpha': 0.976369540247036, 'reg_lambda': 0.1378635478387455, 'subsample': 0.7832134827572009}\n",
      "Params:                                                                      \n",
      "\n",
      "{'colsample_bylevel': 0.6192572398403583, 'colsample_bytree': 0.08704453366679127, 'gamma': 8.30963404701553, 'learning_rate': 0.2674393507330196, 'max_depth': 67, 'min_child_weight': 28.089823174696196, 'reg_alpha': 0.839603972373252, 'reg_lambda': 0.9894685074444804, 'subsample': 0.5264351122890402}\n",
      "Params:                                                                      \n",
      "\n",
      "{'colsample_bylevel': 0.046024152771467444, 'colsample_bytree': 0.47972920101133354, 'gamma': 23.378052752051275, 'learning_rate': 0.8555704793549855, 'max_depth': 75, 'min_child_weight': 78.02801779508599, 'reg_alpha': 0.6502412180542494, 'reg_lambda': 0.7264895229473489, 'subsample': 0.42927592202313536}\n",
      "Params:                                                                     \n",
      "\n",
      "{'colsample_bylevel': 0.8076550767601911, 'colsample_bytree': 0.004228547459603271, 'gamma': 15.50975535453486, 'learning_rate': 0.05879675375561244, 'max_depth': 11, 'min_child_weight': 34.76487190921495, 'reg_alpha': 0.32808974263949037, 'reg_lambda': 0.840427217825173, 'subsample': 0.6999975259285536}\n",
      "Params:                                                                     \n",
      "\n",
      "{'colsample_bylevel': 0.5051721936792675, 'colsample_bytree': 0.1742158782290856, 'gamma': 3.9872563280033058, 'learning_rate': 0.19235890153632956, 'max_depth': 35, 'min_child_weight': 47.07004186517514, 'reg_alpha': 0.0056278655819224505, 'reg_lambda': 0.6237210285849799, 'subsample': 0.9605918039868815}\n",
      "Params:                                                                     \n",
      "\n",
      "{'colsample_bylevel': 0.2920148435826312, 'colsample_bytree': 0.9376349569441975, 'gamma': 46.15908959470054, 'learning_rate': 0.668777683563999, 'max_depth': 73, 'min_child_weight': 18.703897427831084, 'reg_alpha': 0.22157350924509772, 'reg_lambda': 0.5336224811807417, 'subsample': 0.6152652161303562}\n",
      "Params:                                                                     \n",
      "\n",
      "{'colsample_bylevel': 0.36633321015458975, 'colsample_bytree': 0.3856740698833439, 'gamma': 97.83714325038656, 'learning_rate': 0.13553549395493647, 'max_depth': 34, 'min_child_weight': 69.87852559572153, 'reg_alpha': 0.25694430039566307, 'reg_lambda': 0.35386773261967946, 'subsample': 0.22805937822564826}\n",
      "Params:                                                                     \n",
      "\n",
      "{'colsample_bylevel': 0.6692301929762398, 'colsample_bytree': 0.4461450919684502, 'gamma': 88.55298238425932, 'learning_rate': 0.4594895986916703, 'max_depth': 51, 'min_child_weight': 25.561025015112563, 'reg_alpha': 0.15867553592173025, 'reg_lambda': 0.04249056153517633, 'subsample': 0.8209097449745214}\n",
      "Params:                                                                     \n",
      "\n",
      "{'colsample_bylevel': 0.13200011986070811, 'colsample_bytree': 0.06879977388698366, 'gamma': 64.34300904407709, 'learning_rate': 0.34917902739198503, 'max_depth': 57, 'min_child_weight': 38.84724077962794, 'reg_alpha': 0.5632034952568156, 'reg_lambda': 0.43072382447480173, 'subsample': 0.37687204566801896}\n",
      "Params:                                                                     \n",
      "\n",
      "{'colsample_bylevel': 0.41234685130914256, 'colsample_bytree': 0.3134885808560967, 'gamma': 12.754931209474213, 'learning_rate': 0.7544000414725189, 'max_depth': 64, 'min_child_weight': 55.13825413722266, 'reg_alpha': 0.4461691024908184, 'reg_lambda': 0.4942515438052756, 'subsample': 0.4863262706844118}\n",
      "Params:                                                                     \n",
      "\n",
      "{'colsample_bylevel': 0.21212941083995487, 'colsample_bytree': 0.2295743022759434, 'gamma': 55.270436679613816, 'learning_rate': 0.28793852882219184, 'max_depth': 99, 'min_child_weight': 59.62003663273448, 'reg_alpha': 0.30762840456449714, 'reg_lambda': 0.1949150695436471, 'subsample': 0.5480102005585463}\n",
      "Params:                                                                     \n",
      "\n",
      "{'colsample_bylevel': 0.0015784786280405028, 'colsample_bytree': 0.5147372199870832, 'gamma': 26.68928698238636, 'learning_rate': 0.9273429702659625, 'max_depth': 41, 'min_child_weight': 11.223485336333507, 'reg_alpha': 0.09610718264122858, 'reg_lambda': 0.25861476381975096, 'subsample': 0.6327380041001334}\n",
      "Params:                                                                     \n",
      "\n",
      "{'colsample_bylevel': 0.5791352399616778, 'colsample_bytree': 0.5688029380090196, 'gamma': 33.58678877102788, 'learning_rate': 0.5233351238799095, 'max_depth': 42, 'min_child_weight': 64.53314526398948, 'reg_alpha': 0.3588491027977161, 'reg_lambda': 0.6690521881213443, 'subsample': 0.8865047001343306}\n",
      "Params:                                                                     \n",
      "\n",
      "{'colsample_bylevel': 0.3393848721888407, 'colsample_bytree': 0.6809792444484697, 'gamma': 81.1598285389656, 'learning_rate': 0.38998394095481004, 'max_depth': 45, 'min_child_weight': 77.01506825113074, 'reg_alpha': 0.19443386259924, 'reg_lambda': 0.08673189810066767, 'subsample': 0.9561268482891965}\n",
      "Params:                                                                     \n",
      "\n",
      "{'colsample_bylevel': 0.16032840124174796, 'colsample_bytree': 0.6181059687340342, 'gamma': 4.89310711099796, 'learning_rate': 0.10148472724490232, 'max_depth': 54, 'min_child_weight': 45.55413239865522, 'reg_alpha': 0.4950058502998903, 'reg_lambda': 0.3182083282930029, 'subsample': 0.6879674207817478}\n",
      "Params:                                                                     \n",
      "\n",
      "{'colsample_bylevel': 0.4788612898437108, 'colsample_bytree': 0.7511237704877375, 'gamma': 38.511727653674555, 'learning_rate': 0.17230240327704766, 'max_depth': 93, 'min_child_weight': 6.017865319769427, 'reg_alpha': 0.04318177449917526, 'reg_lambda': 0.8158146043016391, 'subsample': 0.7190981958735738}\n",
      "Params:                                                                       \n",
      "\n",
      "{'colsample_bylevel': 0.07922641591455452, 'colsample_bytree': 0.13359207945558838, 'gamma': 0.02182049001998479, 'learning_rate': 0.009068636319199241, 'max_depth': 29, 'min_child_weight': 86.97614552953556, 'reg_alpha': 0.0006029532040589397, 'reg_lambda': 0.8963382865215772, 'subsample': 0.8456847157217178}\n",
      "Params:                                                                       \n",
      "\n",
      "{'colsample_bylevel': 0.7117116851155537, 'colsample_bytree': 0.37533639627183013, 'gamma': 7.40008261777227, 'learning_rate': 0.31238187676816637, 'max_depth': 88, 'min_child_weight': 20.114270034064088, 'reg_alpha': 0.6318512429454113, 'reg_lambda': 0.7217613191926249, 'subsample': 0.42769492232643747}\n",
      "Params:                                                                       \n",
      "\n",
      "{'colsample_bylevel': 0.2725747763416924, 'colsample_bytree': 0.46440127947958465, 'gamma': 20.704200999603454, 'learning_rate': 0.2608281157558579, 'max_depth': 87, 'min_child_weight': 53.16493156921379, 'reg_alpha': 0.7907987260646776, 'reg_lambda': 0.38349867826103495, 'subsample': 0.33817135403024}\n",
      "Params:                                                                      \n",
      "\n",
      "{'colsample_bylevel': 0.9890662555236928, 'colsample_bytree': 0.30955003451936425, 'gamma': 24.688519241829823, 'learning_rate': 0.4371734553219424, 'max_depth': 91, 'min_child_weight': 32.214828393919596, 'reg_alpha': 0.9024373402494716, 'reg_lambda': 0.4907351346580637, 'subsample': 0.9938361551494845}\n",
      "Params:                                                                     \n",
      "\n",
      "{'colsample_bylevel': 0.40620294345949703, 'colsample_bytree': 0.2736217827632079, 'gamma': 2.2297278594363252, 'learning_rate': 0.21815778874618558, 'max_depth': 90, 'min_child_weight': 39.71815739468226, 'reg_alpha': 0.11703800354667022, 'reg_lambda': 0.24740914699122524, 'subsample': 0.7807811361338488}\n",
      "Params:                                                                     \n",
      "\n",
      "{'colsample_bylevel': 0.8013863090087443, 'colsample_bytree': 0.05122671968368234, 'gamma': 75.4692819795425, 'learning_rate': 0.04712675166587296, 'max_depth': 6, 'min_child_weight': 27.195480512577298, 'reg_alpha': 0.2652386899259726, 'reg_lambda': 0.15518378146235268, 'subsample': 0.18329617976182006}\n",
      "Params:                                                                     \n",
      "\n"
     ]
    },
    {
     "name": "stdout",
     "output_type": "stream",
     "text": [
      "{'colsample_bylevel': 0.02806719272876168, 'colsample_bytree': 0.24128017639458854, 'gamma': 30.209453507983408, 'learning_rate': 0.5966557307852516, 'max_depth': 83, 'min_child_weight': 23.981788096034606, 'reg_alpha': 0.6878073726810028, 'reg_lambda': 0.5435368215912205, 'subsample': 0.806379941683762}\n",
      "Params:                                                                     \n",
      "\n",
      "{'colsample_bylevel': 0.618623408940331, 'colsample_bytree': 0.43711417147301007, 'gamma': 9.397955839656372, 'learning_rate': 0.19952178382912564, 'max_depth': 32, 'min_child_weight': 3.44784226520712, 'reg_alpha': 0.14076827890119795, 'reg_lambda': 0.29990421833859776, 'subsample': 0.9296484430968408}\n",
      "Params:                                                                     \n",
      "\n",
      "{'colsample_bylevel': 0.44536901321945854, 'colsample_bytree': 0.37255289361177824, 'gamma': 17.853238789641686, 'learning_rate': 0.08013982167518413, 'max_depth': 46, 'min_child_weight': 33.084639970642954, 'reg_alpha': 0.03775952889365051, 'reg_lambda': 0.3651775624442734, 'subsample': 0.9961349357667938}\n",
      "Params:                                                                     \n",
      "\n",
      "{'colsample_bylevel': 0.543523020945257, 'colsample_bytree': 0.34228079091548613, 'gamma': 13.683486505442414, 'learning_rate': 0.0004571833495897737, 'max_depth': 80, 'min_child_weight': 0.21179980009968347, 'reg_alpha': 0.07205649882454035, 'reg_lambda': 0.42553198805668463, 'subsample': 0.8660331446820296}\n",
      "Params:                                                                       \n",
      "\n",
      "{'colsample_bylevel': 0.5001294727871732, 'colsample_bytree': 0.1952552474715158, 'gamma': 5.549898746408352, 'learning_rate': 0.13928204231713626, 'max_depth': 31, 'min_child_weight': 12.752991611668385, 'reg_alpha': 0.2143571392201342, 'reg_lambda': 0.2972062341226844, 'subsample': 0.9714847435353177}\n",
      "Params:                                                                       \n",
      "\n",
      "{'colsample_bylevel': 0.33311808899996076, 'colsample_bytree': 0.16308575909500367, 'gamma': 1.4238048355891624, 'learning_rate': 0.3237136187794386, 'max_depth': 77, 'min_child_weight': 21.04130349923318, 'reg_alpha': 0.051234452610727385, 'reg_lambda': 0.19661730748984735, 'subsample': 0.8915337570566401}\n",
      "Params:                                                                       \n",
      "\n",
      "{'colsample_bylevel': 0.6682645442735535, 'colsample_bytree': 0.4831725100629435, 'gamma': 10.676201180652473, 'learning_rate': 0.37359411874057014, 'max_depth': 37, 'min_child_weight': 17.02459083700118, 'reg_alpha': 0.1487386099931806, 'reg_lambda': 0.06034225238780633, 'subsample': 0.6653860547978876}\n",
      "Params:                                                                       \n",
      "\n",
      "{'colsample_bylevel': 0.43671790254276677, 'colsample_bytree': 0.40845302874605915, 'gamma': 16.59584819548094, 'learning_rate': 0.22475480377144963, 'max_depth': 18, 'min_child_weight': 37.29430992823298, 'reg_alpha': 0.29728574965066523, 'reg_lambda': 0.4780951976044531, 'subsample': 0.928485152079157}\n",
      "Params:                                                                       \n",
      "\n",
      "{'colsample_bylevel': 0.3891571894170903, 'colsample_bytree': 0.12069204622339083, 'gamma': 0.1841370329090666, 'learning_rate': 0.28075776456052615, 'max_depth': 85, 'min_child_weight': 73.20076450498031, 'reg_alpha': 0.09758896047854415, 'reg_lambda': 0.10040971322744155, 'subsample': 0.7596500876235606}\n",
      "Params:                                                                      \n",
      "\n",
      "{'colsample_bylevel': 0.5342696194042438, 'colsample_bytree': 0.5404249095866376, 'gamma': 22.650195204708183, 'learning_rate': 0.11004174697369208, 'max_depth': 1, 'min_child_weight': 5.319623849550365, 'reg_alpha': 0.2375809943017601, 'reg_lambda': 0.5988256506971711, 'subsample': 0.7150229085184946}\n",
      "Params:                                                                     \n",
      "\n",
      "{'colsample_bylevel': 0.09637641627311572, 'colsample_bytree': 0.3397678976318749, 'gamma': 26.770328247688152, 'learning_rate': 0.18558303102206278, 'max_depth': 94, 'min_child_weight': 42.149942964983566, 'reg_alpha': 0.029447159052441295, 'reg_lambda': 0.24425762448957378, 'subsample': 0.5598767877151206}\n",
      "Params:                                                                     \n",
      "\n",
      "{'colsample_bylevel': 0.2276528520631328, 'colsample_bytree': 0.2110934231264533, 'gamma': 6.075305543150094, 'learning_rate': 0.4929826911158263, 'max_depth': 65, 'min_child_weight': 46.36062269541485, 'reg_alpha': 0.18057748804036794, 'reg_lambda': 0.16699014965722284, 'subsample': 0.9045583110605607}\n",
      "Params:                                                                     \n",
      "\n",
      "{'colsample_bylevel': 0.2918463232282292, 'colsample_bytree': 0.3044745236788023, 'gamma': 19.052547439053708, 'learning_rate': 0.1556899134110932, 'max_depth': 98, 'min_child_weight': 67.27030826395107, 'reg_alpha': 0.35332016504167013, 'reg_lambda': 0.44685145310864266, 'subsample': 0.8448345661208633}\n",
      "Params:                                                                     \n",
      "\n",
      "{'colsample_bylevel': 0.47820222017970515, 'colsample_bytree': 0.26697372753411663, 'gamma': 93.71858572080967, 'learning_rate': 0.02260301657861774, 'max_depth': 2, 'min_child_weight': 92.87523122626156, 'reg_alpha': 0.38422324823712745, 'reg_lambda': 0.354475685755105, 'subsample': 0.9969518607255037}\n",
      "Params:                                                                     \n",
      "\n",
      "{'colsample_bylevel': 0.18559705517716807, 'colsample_bytree': 0.5991876640740559, 'gamma': 32.96790237915884, 'learning_rate': 0.06236713877918188, 'max_depth': 86, 'min_child_weight': 50.56417617510216, 'reg_alpha': 0.11126101609228871, 'reg_lambda': 0.2793105313787654, 'subsample': 0.8136861714478596}\n",
      "Params:                                                                     \n",
      "\n",
      "{'colsample_bylevel': 0.589382555422038, 'colsample_bytree': 0.6542850250578467, 'gamma': 3.4518038981135817, 'learning_rate': 0.43935070063155635, 'max_depth': 69, 'min_child_weight': 29.57321200316396, 'reg_alpha': 0.02419861054065349, 'reg_lambda': 0.5716573908000612, 'subsample': 0.9491886852107798}\n",
      "Params:                                                                     \n",
      "\n",
      "{'colsample_bylevel': 0.7714637772261239, 'colsample_bytree': 0.3623201412739844, 'gamma': 37.672332919310215, 'learning_rate': 0.2448990625320727, 'max_depth': 9, 'min_child_weight': 55.928565312437726, 'reg_alpha': 0.46667891877400197, 'reg_lambda': 0.4057416958480422, 'subsample': 0.6414493594187964}\n",
      "Params:                                                                     \n",
      "\n",
      "{'colsample_bylevel': 0.3539382677333368, 'colsample_bytree': 0.16036860662453267, 'gamma': 46.41723344311792, 'learning_rate': 0.537270678226494, 'max_depth': 59, 'min_child_weight': 34.54121116059596, 'reg_alpha': 0.07727864770821499, 'reg_lambda': 0.6167549421321115, 'subsample': 0.7817778817470958}\n",
      "Params:                                                                     \n",
      "\n",
      "{'colsample_bylevel': 0.6413620603844525, 'colsample_bytree': 0.003765644003753621, 'gamma': 10.599744522092847, 'learning_rate': 0.29825983405714834, 'max_depth': 97, 'min_child_weight': 60.8144787069738, 'reg_alpha': 0.19300420370202692, 'reg_lambda': 0.5052208772825323, 'subsample': 0.016451522944939623}\n",
      "Params:                                                                     \n",
      "\n",
      "{'colsample_bylevel': 0.14919490464800622, 'colsample_bytree': 0.4216445286738634, 'gamma': 56.75032137332488, 'learning_rate': 0.35348594551127366, 'max_depth': 21, 'min_child_weight': 83.19533454097959, 'reg_alpha': 0.590797252107253, 'reg_lambda': 0.2325389929640949, 'subsample': 0.7406890342899133}\n",
      "Params:                                                                     \n",
      "\n",
      "{'colsample_bylevel': 0.26886506564693596, 'colsample_bytree': 0.5123551831888812, 'gamma': 15.108774990060333, 'learning_rate': 0.12373625975642483, 'max_depth': 15, 'min_child_weight': 9.232610974599364, 'reg_alpha': 0.5243360964110989, 'reg_lambda': 0.3336400404405584, 'subsample': 0.6150519315494951}\n",
      "Params:                                                                     \n",
      "\n",
      "{'colsample_bylevel': 0.9313592991010806, 'colsample_bytree': 0.0930763473356655, 'gamma': 13.311059125817456, 'learning_rate': 0.7342863525073962, 'max_depth': 49, 'min_child_weight': 14.043634904887213, 'reg_alpha': 0.24358312271345328, 'reg_lambda': 0.37940239414099675, 'subsample': 0.8582495892489959}\n"
     ]
    },
    {
     "name": "stdout",
     "output_type": "stream",
     "text": [
      "Params:                                                                     \n",
      "\n",
      "{'colsample_bylevel': 0.3149354499605058, 'colsample_bytree': 0.29398435299795295, 'gamma': 70.41586973289799, 'learning_rate': 0.15154074871087253, 'max_depth': 66, 'min_child_weight': 26.155387778729242, 'reg_alpha': 0.33097849231547405, 'reg_lambda': 0.12661917244618892, 'subsample': 0.5088280130289472}\n",
      "Params:                                                                     \n",
      "\n",
      "{'colsample_bylevel': 0.7127304052674794, 'colsample_bytree': 0.22830475992531646, 'gamma': 21.45470738313195, 'learning_rate': 0.09605612540425977, 'max_depth': 47, 'min_child_weight': 57.51847269284211, 'reg_alpha': 0.41108733399442765, 'reg_lambda': 0.5484153323510311, 'subsample': 0.45762872098960616}\n",
      "Params:                                                                     \n",
      "\n",
      "{'colsample_bylevel': 0.11438895149350631, 'colsample_bytree': 0.7531518932597185, 'gamma': 42.084023108112326, 'learning_rate': 0.029283923492023467, 'max_depth': 38, 'min_child_weight': 51.80323212936355, 'reg_alpha': 0.2756204862566126, 'reg_lambda': 0.18042731331639045, 'subsample': 0.9118628691973294}\n",
      " 88%|████████▊ | 88/100 [19:43:33<1:14:57, 374.82s/it, best loss: 0.0866539]"
     ]
    }
   ],
   "source": [
    "MAX_EVALS = 100\n",
    "best = fmin(fn = objective, space = space, algo = tpe.suggest,\n",
    "            max_evals = MAX_EVALS\n",
    "           )"
   ]
  },
  {
   "cell_type": "code",
   "execution_count": null,
   "metadata": {
    "collapsed": true
   },
   "outputs": [],
   "source": [
    "best"
   ]
  },
  {
   "cell_type": "code",
   "execution_count": 174,
   "metadata": {
    "collapsed": true
   },
   "outputs": [],
   "source": [
    "best['booster'] = 'gbtree'"
   ]
  },
  {
   "cell_type": "code",
   "execution_count": 181,
   "metadata": {
    "collapsed": true
   },
   "outputs": [],
   "source": [
    "cv_results = xgb.cv(dtrain = data_dmatrix, \n",
    "                    params = best,\n",
    "                    nfold = 10, \n",
    "                    num_boost_round = 10000, \n",
    "                    early_stopping_rounds = 100, \n",
    "                    metrics = 'mae', \n",
    "                    as_pandas = True, \n",
    "                    seed = 50)"
   ]
  },
  {
   "cell_type": "code",
   "execution_count": 182,
   "metadata": {},
   "outputs": [
    {
     "data": {
      "text/html": [
       "<div>\n",
       "<style scoped>\n",
       "    .dataframe tbody tr th:only-of-type {\n",
       "        vertical-align: middle;\n",
       "    }\n",
       "\n",
       "    .dataframe tbody tr th {\n",
       "        vertical-align: top;\n",
       "    }\n",
       "\n",
       "    .dataframe thead th {\n",
       "        text-align: right;\n",
       "    }\n",
       "</style>\n",
       "<table border=\"1\" class=\"dataframe\">\n",
       "  <thead>\n",
       "    <tr style=\"text-align: right;\">\n",
       "      <th></th>\n",
       "      <th>train-mae-mean</th>\n",
       "      <th>train-mae-std</th>\n",
       "      <th>test-mae-mean</th>\n",
       "      <th>test-mae-std</th>\n",
       "    </tr>\n",
       "  </thead>\n",
       "  <tbody>\n",
       "    <tr>\n",
       "      <th>0</th>\n",
       "      <td>0.452870</td>\n",
       "      <td>0.000925</td>\n",
       "      <td>0.452882</td>\n",
       "      <td>0.009519</td>\n",
       "    </tr>\n",
       "    <tr>\n",
       "      <th>1</th>\n",
       "      <td>0.420984</td>\n",
       "      <td>0.001148</td>\n",
       "      <td>0.420978</td>\n",
       "      <td>0.007645</td>\n",
       "    </tr>\n",
       "  </tbody>\n",
       "</table>\n",
       "</div>"
      ],
      "text/plain": [
       "   train-mae-mean  train-mae-std  test-mae-mean  test-mae-std\n",
       "0        0.452870       0.000925       0.452882      0.009519\n",
       "1        0.420984       0.001148       0.420978      0.007645"
      ]
     },
     "execution_count": 182,
     "metadata": {},
     "output_type": "execute_result"
    }
   ],
   "source": [
    "cv_results"
   ]
  },
  {
   "cell_type": "code",
   "execution_count": null,
   "metadata": {
    "collapsed": true
   },
   "outputs": [],
   "source": []
  }
 ],
 "metadata": {
  "kernelspec": {
   "display_name": "Python 3",
   "language": "python",
   "name": "python3"
  },
  "language_info": {
   "codemirror_mode": {
    "name": "ipython",
    "version": 3
   },
   "file_extension": ".py",
   "mimetype": "text/x-python",
   "name": "python",
   "nbconvert_exporter": "python",
   "pygments_lexer": "ipython3",
   "version": "3.6.5"
  }
 },
 "nbformat": 4,
 "nbformat_minor": 2
}
